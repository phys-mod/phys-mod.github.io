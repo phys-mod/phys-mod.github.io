{
 "cells": [
  {
   "cell_type": "markdown",
   "metadata": {},
   "source": [
    "# Première prise en main"
   ]
  },
  {
   "cell_type": "markdown",
   "metadata": {},
   "source": [
    "## **Vidéo**: Présentation du cours et des Jupyter Notebooks"
   ]
  },
  {
   "cell_type": "code",
   "execution_count": null,
   "metadata": {
    "tags": [
     "remove-input"
    ]
   },
   "outputs": [],
   "source": [
    "%%HTML\n",
    "<iframe src=\"https://sorbonne-universite.cloud.panopto.eu/Panopto/Pages/Embed.aspx?id=4438ddd6-bcac-4308-975e-ae0c01325e43&autoplay=false&offerviewer=true&showtitle=true&showbrand=false&captions=false&interactivity=all\" height=\"405\" width=\"720\" style=\"border: 1px solid #464646;\" allowfullscreen allow=\"autoplay\"></iframe>"
   ]
  },
  {
   "cell_type": "markdown",
   "metadata": {},
   "source": [
    "## L'interface Jupyter Notebook\n",
    "Dans ce cours nous utiliserons Jupyter Notebook. Cette interface est constituée de *cellules* dans lesquelles vous pouvez écrire du langage Python (*code*) ou bien du texte.\n",
    "\n",
    "Pour *exécuter* le code Python, il faut sélectionner la cellule en cliquant dessus avec la souris, puis faire au clavier `Ctrl+Enter`. Un *interpréteur* exécute alors le code Python et envoie un résultat qui s'affiche sous la cellule. Vous pouvez alors sélectionner la cellule suivante à la souris.\n",
    "\n",
    "Vous pouvez également combiner l'exécution d'une cellule et le passage à la cellule suivante avec `Shift+Enter`.\n",
    "\n",
    "Essayez d'éxecuter les cellules suivantes :"
   ]
  },
  {
   "cell_type": "code",
   "execution_count": null,
   "metadata": {},
   "outputs": [],
   "source": [
    "3 / 4"
   ]
  },
  {
   "cell_type": "code",
   "execution_count": null,
   "metadata": {},
   "outputs": [],
   "source": [
    "print(6 * 5)"
   ]
  },
  {
   "cell_type": "markdown",
   "metadata": {},
   "source": [
    "<div class=\"alert alert-info\">\n",
    "\n",
    "**Afficher une valeur**\n",
    "\n",
    "L'instruction `print()` permet d'afficher une *valeur* à l'écran. Lorsqu'une cellule est exécutée, la valeur renvoyée par la dernière ligne de code est affichée, même si on n'utilise pas `print()`.\n",
    "\n",
    "</div>"
   ]
  },
  {
   "cell_type": "markdown",
   "metadata": {},
   "source": [
    "<div class=\"alert alert-info\">\n",
    "\n",
    "**C'est quoi une valeur ?**\n",
    "\n",
    "Une *valeur* est l'une des choses fondamentales avec lesquelles fonctionne un programme, comme une lettre ou un chiffre.\n",
    "</div>"
   ]
  },
  {
   "cell_type": "markdown",
   "metadata": {},
   "source": [
    "## Commentaires"
   ]
  },
  {
   "cell_type": "markdown",
   "metadata": {},
   "source": [
    "Un *programme informatique* est une séquence d'*instructions* qui spécifie comment effectuer un calcul. Il peut aller de quelques lignes à plusieurs dizaines de milliers de lignes ou plus.\n",
    "\n",
    "Il est très important de **toujours commenter un programme** informatique que l'on écrit, quelle que soit sa longueur. Cela permet d'ajouter des informations utiles, ou bien d'expliquer ce que signifie une instruction. De plus, cela permet :\n",
    "\n",
    "- de comprendre son programme plus rapidement si jamais on le reprend longtemps après l'avoir écrit\n",
    "- pour une autre personne de comprendre ce que le programmeur a fait, si on programme à plusieurs ou si on rend son programme disponible\n",
    "\n",
    "Les **commentaires sont ignorés** au moment de l'évaluation du programme. Vous pouvez ajouter des commentaires dans un programme Python de deux façons :\n",
    "\n",
    "- le signe [croisillon](https://fr.wikipedia.org/wiki/Croisillon_(signe)) (*hash* en anglais) : `# commentaire`\n",
    "- les triples guillemets : `\"\"\"commentaire\"\"\"` ou bien `'''commentaire'''`\n",
    "\n",
    "Dans l'exemple suivant, on affiche une valeur qui peut avoir n'importe quelle signification. Ajouter des commentaires avec le croisillon permet d'indiquer au lecteur du programme quelle est la grandeur physique affichée et quelle est son unité :"
   ]
  },
  {
   "cell_type": "code",
   "execution_count": null,
   "metadata": {},
   "outputs": [],
   "source": [
    "# température de la pièce\n",
    "print(19) # degrés"
   ]
  },
  {
   "cell_type": "markdown",
   "metadata": {},
   "source": [
    "Pour les commentaires sur plusieurs lignes, on utilisera les triples guillemets :"
   ]
  },
  {
   "cell_type": "code",
   "execution_count": null,
   "metadata": {},
   "outputs": [],
   "source": [
    "\"\"\"\n",
    "Programme qui ne sert à rien\n",
    "Auteur : Moi\n",
    "Date : indéterminée\n",
    "\"\"\"\n",
    "print(0 + 0)"
   ]
  },
  {
   "cell_type": "markdown",
   "metadata": {},
   "source": [
    "## **Vidéo**: La calculatrice Python"
   ]
  },
  {
   "cell_type": "code",
   "execution_count": null,
   "metadata": {
    "tags": [
     "remove-input"
    ]
   },
   "outputs": [],
   "source": [
    "%%HTML\n",
    "<iframe src=\"https://sorbonne-universite.cloud.panopto.eu/Panopto/Pages/Embed.aspx?id=e15ff2db-b926-42fa-ad21-ae0c0131ffd8&autoplay=false&offerviewer=true&showtitle=true&showbrand=false&captions=false&interactivity=all\" height=\"405\" width=\"720\" style=\"border: 1px solid #464646;\" allowfullscreen allow=\"autoplay\"></iframe>"
   ]
  },
  {
   "cell_type": "markdown",
   "metadata": {},
   "source": [
    "<br><div id=\"calculatrice\"></div>\n",
    "## La calculatrice Python\n",
    "Le code Python permet de calculer comme sur une calculatrice. On utilise alors des *opérateurs* : addition `+`, soustraction `-`, multiplication `*`, division `/`. Il existe d'autres opérateurs :\n",
    "\n",
    "- la puissance `**` : le nombre à gauche des deux étoiles est élevé à la puissance du nombre à droite. Par exemple `2 ** 5 = 32`\n",
    "- le quotient de la [division entière](https://fr.wikipedia.org/wiki/Division_euclidienne) `//` : par exemple `30 // 7 = 4`\n",
    "- le reste de la division entière, ou [modulo](https://fr.wikipedia.org/wiki/Modulo_(op%C3%A9ration)) `%` : par exemple `30 % 7 = 2`\n",
    "\n",
    "La lettre `e` est très pratique pour représenter les nombres en [notation scientifique](https://fr.wikipedia.org/wiki/Notation_scientifique) : par exemple `3 * 10 ** 5` peut s'écrire `3e5`.\n",
    "\n",
    "**Une suite de valeurs et d'opérateurs est appelée une *expression***. Lors de l'exécution du code, l'interpréteur Python *évalue* les expressions et renvoie leur résultat. Vous pouvez évaluer les opérations suivantes en exécutant la cellule :"
   ]
  },
  {
   "cell_type": "code",
   "execution_count": null,
   "metadata": {},
   "outputs": [],
   "source": [
    "print(2 ** 5)   # puissance\n",
    "print(30 // 7)  # quotient de la division entière\n",
    "print(30 % 7)   # reste de la division entière\n",
    "print(2 * 3e5)  # notation scientifique"
   ]
  },
  {
   "cell_type": "markdown",
   "metadata": {},
   "source": [
    "<br><div id=\"bouillon\"></div>\n",
    "### Exercice : bouillon de culture\n",
    "La masse d'une bactérie est de l'ordre du picogramme (`1e-15` kg). Lorque l'on place une bactérie *escherichia coli* dans un bouillon de culture, le nombre de cellules double toutes les trente minutes par division cellulaire. À la première génération, on aura `2 ** 1 = 2` cellules. À la deuxième génération, `2 ** 2 = 4` cellules. Quelle est la masse de l'échantillon au bout de 140 générations ? Comparer cette masse à celle de la Terre `5.972e24` kg.\n",
    "\n",
    "Afin d'effectuer cet exercice, il faut créer une cellule sous ce texte :\n",
    "\n",
    "- avec *Jupyter Notebook*, aller dans le Menu \"Insérer\" et sélectionnez \"Insérer une cellule après\"\n",
    "- avec *Jupyter Lab*, sélectionnez la petite icône `+` dans le menu contextuel en haut du calepin"
   ]
  },
  {
   "cell_type": "code",
   "execution_count": null,
   "metadata": {
    "tags": [
     "solution",
     "hide-input"
    ]
   },
   "outputs": [],
   "source": [
    "print(2 ** 140 * 1e-15 // 5.972e24)"
   ]
  },
  {
   "cell_type": "markdown",
   "metadata": {},
   "source": [
    "## **Vidéo**: Variables et type"
   ]
  },
  {
   "cell_type": "code",
   "execution_count": null,
   "metadata": {
    "tags": [
     "remove-input"
    ]
   },
   "outputs": [],
   "source": [
    "%%HTML\n",
    "<iframe src=\"https://sorbonne-universite.cloud.panopto.eu/Panopto/Pages/Embed.aspx?id=60165160-760d-4a5e-a743-adb100bc56ad&autoplay=false&offerviewer=true&showtitle=true&showbrand=false&captions=false&interactivity=all\" height=\"405\" width=\"720\" style=\"border: 1px solid #464646;\" allowfullscreen allow=\"autoplay\"></iframe>"
   ]
  },
  {
   "cell_type": "markdown",
   "metadata": {},
   "source": [
    "## Affectation d'une variable\n",
    "\n"
   ]
  },
  {
   "cell_type": "markdown",
   "metadata": {},
   "source": [
    "Une *variable* permet de donner un nom à une zone de la mémoire de l'ordinateur dans laquelle est stockée une valeur. C'est comme donner un nom à une boîte dans laquelle est rangé un nombre ou une lettre.\n",
    "\n",
    "Une variable peut représenter une [grandeur physique](https://fr.wikipedia.org/wiki/Grandeur_physique), par exemple la vitesse `v` d'un vélo. La valeur contenue dans la variable peut changer au cours du programme, mais le nom de la variable qui représente la grandeur physique reste le même.\n",
    "\n",
    "Pour ranger une valeur dans une variable, on utilise le signe *affectation* `=`. L'instruction `v = 15.2` *affecte* la valeur `15.2` à la variable `v`.\n",
    "\n",
    "Le membre à droite du signe affectation peut être une expression, qui est alors évaluée avant d'affecter le résultat à la variable située à gauche du signe affectation. Par exemple :"
   ]
  },
  {
   "cell_type": "code",
   "execution_count": null,
   "metadata": {},
   "outputs": [],
   "source": [
    "v = 3 * 5 ** 2 # vitesse (km/h)\n",
    "print(v)"
   ]
  },
  {
   "cell_type": "markdown",
   "metadata": {},
   "source": [
    "<div class=\"alert alert-info\">\n",
    "\n",
    "**Priorité des opérations**\n",
    "\n",
    "Vous remarquerez que Python respecte la [priorité des opérations](https://fr.wikipedia.org/wiki/Ordre_des_op%C3%A9rations) usuelle en mathématiques : `3 * 5 ** 2` est équivalent à `3 * (5 ** 2)`.\n",
    "</div>"
   ]
  },
  {
   "cell_type": "markdown",
   "metadata": {},
   "source": [
    "<div class=\"alert alert-warning\">\n",
    "\n",
    "**Attention**\n",
    "\n",
    "L'affectation n'a pas le même sens que l'égalité en mathématiques, bien que le même signe `=` soit utilisé. Par exemple, on ne peut pas affecter une valeur à une valeur : dans la cellule ci-dessous, exécutez l'instruction `2 = 2`.\n",
    "</div>"
   ]
  },
  {
   "cell_type": "code",
   "execution_count": null,
   "metadata": {
    "tags": [
     "raises-exception"
    ]
   },
   "outputs": [],
   "source": [
    "2 = 2"
   ]
  },
  {
   "cell_type": "markdown",
   "metadata": {},
   "source": [
    "<div class=\"alert alert-info\">\n",
    "\n",
    "**Message d'erreur**\n",
    "\n",
    "Lorsque l'intérpréteur Python détecte une instruction qui n'est pas autorisée, il renvoie un *message d'erreur*. Il est important de lire et de comprendre ces messages d'erreur, car ils permettent de comprendre quel est le problème dans le programme que l'on a écrit. Ces messages d'erreur sont en anglais. Ici, l'interpréteur nous dit qu'il ne peut pas affecter (*assign*) à une valeur (*literal*).\n",
    "</div>"
   ]
  },
  {
   "cell_type": "markdown",
   "metadata": {},
   "source": [
    "### Exercice : masse de la Terre\n",
    "\n",
    "1. Créer une variable `masse` avec la valeur `5.972e24`, qui représente la masse de la Terre en kg.\n",
    "2. Afficher la valeur de cette variable à l'écran avec l'instruction `print(masse)`"
   ]
  },
  {
   "cell_type": "code",
   "execution_count": null,
   "metadata": {
    "tags": [
     "solution",
     "hide-input"
    ]
   },
   "outputs": [],
   "source": [
    "# Masse de la Terre\n",
    "masse = 5.972e24 # kg\n",
    "\n",
    "# Afficher à l'écran\n",
    "print(masse)"
   ]
  },
  {
   "cell_type": "markdown",
   "metadata": {},
   "source": [
    "## Calculer avec des variables\n",
    "\n",
    "Dans l'exercice [bouillon de culture](#bouillon), nous avons utilisé directement des valeurs pour former des expressions. Il est possible aussi de créer des variables, puis de former des expressions avec ces variables :"
   ]
  },
  {
   "cell_type": "code",
   "execution_count": null,
   "metadata": {},
   "outputs": [],
   "source": [
    "# Masse d'une bactérie\n",
    "masse_bacterie = 1.000e-15  # kg\n",
    "\n",
    "# Masse de la Terre\n",
    "masse_terre = 5.972e24  # kg\n",
    "\n",
    "# Nombre de générations\n",
    "N = 140\n",
    "\n",
    "# Masse de l'échantillon (unité de masse terrestre) au bout de N générations\n",
    "masse_echantillon = 2 ** N * masse_bacterie // masse_terre\n",
    "\n",
    "# Afficher le résultat\n",
    "print(masse_echantillon)"
   ]
  },
  {
   "cell_type": "markdown",
   "metadata": {},
   "source": [
    "L'expression à droite du signe affectation est évaluée en remplacant le nom des variables par leur valeur.\n",
    "\n",
    "Le programme que l'on a écrit en introduisant des variables est plus long que le précédent. Il est aussi plus facile à comprendre. De plus, on peut facilement changer la valeur d'une des variables et exécuter de nouveau le même programme."
   ]
  },
  {
   "cell_type": "markdown",
   "metadata": {},
   "source": [
    "### Exercice: masse de l'échantillon\n",
    "Quelle est la masse de l'échantillon pour 133 générations ? Il suffit de changer la ligne `N = 140` en `N = 133` et d'exécuter de nouveau la cellule."
   ]
  },
  {
   "cell_type": "markdown",
   "metadata": {},
   "source": [
    "## Les types\n",
    "\n",
    "Dans les exemples précédents, nous avons travaillé avec deux *types* de valeurs : `140` est un **entier**, `5.972` est un **nombre à virgule flottante**. \n",
    "\n",
    "Il existe aussi des valeurs de type **chaîne** ou **chaîne de caractères** : ce sont des caractères enchaînés mis entre guillemets. Par exemple `'bonjour !'` ou bien `\"bonjour !\"`. Une chaîne est donc une séquence de caractères. \n",
    "\n",
    "Pour connaître le type d'une valeur on peut demander à l'interpréteur avec l'instruction `type()` :"
   ]
  },
  {
   "cell_type": "code",
   "execution_count": null,
   "metadata": {},
   "outputs": [],
   "source": [
    "print(type(2))\n",
    "print(type(2.0))\n",
    "print(type('Comment ça va ?'))"
   ]
  },
  {
   "cell_type": "markdown",
   "metadata": {},
   "source": [
    "Le mot *class* indique que la valeur appartient à une certaine *catégorie*. Un type est une catégorie de valeurs. Résumons les différents types vus jusqu'ici :\n",
    "\n",
    "| type | en anglais | catégorie Python|\n",
    "|--|--|--|\n",
    "|entier | integer | `int`|\n",
    "|nombre à virgule flottante | floating-point number | `float`|\n",
    "|chaîne | string | `str`|"
   ]
  },
  {
   "cell_type": "markdown",
   "metadata": {},
   "source": [
    "### Exercice: chaîne\n",
    "1. Créer une variable appelée `annonce_resultat` qui a la valeur `\"masse du bouillon\"`, de type chaîne.\n",
    "2. Afficher la valeur de cette variable à l'écran à l'aide de la fonction `print()`"
   ]
  },
  {
   "cell_type": "code",
   "execution_count": null,
   "metadata": {
    "tags": [
     "solution",
     "hide-input"
    ]
   },
   "outputs": [],
   "source": [
    "annonce_resultat = \"masse du bouillon\"\n",
    "print(annonce_resultat)"
   ]
  },
  {
   "cell_type": "markdown",
   "metadata": {},
   "source": [
    "## Opérations sur les types\n",
    "\n",
    "Nous avons vu dans [la caculatrice Python](#calculatrice) les opérations pour former des expressions avec des entiers et des nombre à virgule flottante. Résumons ces opérations ici :\n",
    "\n",
    "opération | syntaxe\n",
    "--|--\n",
    "addition | `+`\n",
    "soustraction | `-`\n",
    "multiplication | `*`\n",
    "division | `/`\n",
    "puissance | `**`\n",
    "quotient de la division entière | `//`\n",
    "reste de la division entière ou modulo | `%`"
   ]
  },
  {
   "cell_type": "markdown",
   "metadata": {},
   "source": [
    "Il est aussi possible de faire des opération sur les chaînes. L'opérateur `+` concatène les chaînes, c'est-à-dire les assemble bout-à-bout. L'opérateur `*` effectue une répétition. Par exemple :"
   ]
  },
  {
   "cell_type": "code",
   "execution_count": null,
   "metadata": {},
   "outputs": [],
   "source": [
    "chaine1 = \"Salut\"\n",
    "chaine2 = \"c'est cool!\"\n",
    "print(chaine1 + \" \" + chaine2)\n",
    "print( (chaine1 + \" \") * 3)"
   ]
  },
  {
   "cell_type": "markdown",
   "metadata": {},
   "source": [
    "### Exercice: concaténation\n",
    "1. En utilisant l'opérateur concaténation et la variable `annonce_resultat`, créer une nouvelle chaîne nommée `annonce_resultat2` qui a la valeur `\"La masse du bouillon de culture est égale à \"`.\n",
    "2. Afficher la valeur de la variable `annonce_resultat2` à l'écran."
   ]
  },
  {
   "cell_type": "code",
   "execution_count": null,
   "metadata": {
    "tags": [
     "solution",
     "hide-input"
    ]
   },
   "outputs": [],
   "source": [
    "annonce_resultat2 = \"La \" + annonce_resultat + \" de culture est égale à \"\n",
    "print(annonce_resultat2)"
   ]
  },
  {
   "cell_type": "markdown",
   "metadata": {},
   "source": [
    "## Conversion de type"
   ]
  },
  {
   "cell_type": "markdown",
   "metadata": {},
   "source": [
    "La concaténation de chaîne est très pratique pour afficher à l'écran le résultat d'un calcul. Par exemple, pour reprendre l'exercice du bouillon de culture, on pourrait écrire :"
   ]
  },
  {
   "cell_type": "code",
   "execution_count": null,
   "metadata": {
    "tags": [
     "raises-exception"
    ]
   },
   "outputs": [],
   "source": [
    "print(\"La masse de l'échantillon est \" + masse_echantillon)"
   ]
  },
  {
   "cell_type": "markdown",
   "metadata": {},
   "source": [
    "<div class=\"alert alert-info\">\n",
    "\n",
    "**Message d'erreur**\n",
    "\n",
    "Le message d'erreur nous dit : \"must be str, not float\", c'est-à-dire, \"doit être une chaîne, et pas un nombre à virgule flottante\". En effet, on a additionné des valeurs de types différents : une chaîne avec un nombre à virgule flottante. Cela est interdit en Python : une expression cohérente doit être un enchaînement de valeurs et d'opérateurs de même type.\n",
    "</div>"
   ]
  },
  {
   "cell_type": "markdown",
   "metadata": {},
   "source": [
    "Il faut pouvoir convertir une valeur en un autre type. Pour cela il existe plusieurs fonctions Python, une pour chaque type que nous avons vu jusqu'ici :\n",
    "\n",
    "fonction | description\n",
    "--|--\n",
    "`str()` | conversion en chaîne\n",
    "`int()` | conversion en entier\n",
    "`float()` | conversion en nombre à virgule flottante"
   ]
  },
  {
   "cell_type": "markdown",
   "metadata": {},
   "source": [
    "### Exercice: conversion de type\n",
    "1. À l'aide de l'opérateur concaténation et des variables `annonce_resultat2` et `masse_echantillon`, afficher le résultat de l'expérience du bouillon de culture.\n",
    "2. Comment faire pour afficher un entier et non un nombre à virgule flottante ?"
   ]
  },
  {
   "cell_type": "code",
   "execution_count": null,
   "metadata": {
    "tags": [
     "solution",
     "hide-input"
    ]
   },
   "outputs": [],
   "source": [
    "print(annonce_resultat2 + str(int(masse_echantillon)) + \" fois la masse de la Terre.\")"
   ]
  }
 ],
 "metadata": {
  "celltoolbar": "Tags",
  "interpreter": {
   "hash": "31f2aee4e71d21fbe5cf8b01ff0e069b9275f58929596ceb00d14d90e3e16cd6"
  },
  "kernelspec": {
   "display_name": "Python 3 (ipykernel)",
   "language": "python",
   "name": "python3"
  },
  "language_info": {
   "codemirror_mode": {
    "name": "ipython",
    "version": 3
   },
   "file_extension": ".py",
   "mimetype": "text/x-python",
   "name": "python",
   "nbconvert_exporter": "python",
   "pygments_lexer": "ipython3",
   "version": "3.8.10"
  },
  "toc-showmarkdowntxt": false,
  "toc-showtags": true
 },
 "nbformat": 4,
 "nbformat_minor": 4
}
