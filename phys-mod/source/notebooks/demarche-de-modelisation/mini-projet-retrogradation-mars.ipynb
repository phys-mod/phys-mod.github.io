{
 "cells": [
  {
   "cell_type": "markdown",
   "metadata": {},
   "source": [
    "# Mouvement rétrograde de Mars\n",
    "\n"
   ]
  },
  {
   "cell_type": "markdown",
   "metadata": {},
   "source": [
    "![2014-2016-mars-retrograde-earth-night-sky-samples.jpg](./2014-2016-mars-retrograde-earth-night-sky-samples.jpg)"
   ]
  },
  {
   "cell_type": "markdown",
   "metadata": {},
   "source": [
    "*image from https://mars.nasa.gov/all-about-mars/night-sky/retrograde/*\n",
    "\n",
    "Tous les deux ans, si l'on regarde la position de Mars depuis la Terre par rapport à la voûte céleste, la planète rouge semble faire un bref demi-tour, avant de repartir dans le même sens. Ce mouvement rétrograde est observé depuis l'antiquité.\n",
    "\n",
    "Le but de ce mini-projet est de construire un modèle reproduisant ce phénomène."
   ]
  },
  {
   "cell_type": "markdown",
   "metadata": {},
   "source": [
    "## À la maison\n",
    "\n",
    "Rappelez les équations du mouvement $X(t),Y(t)$ pour un mouvement circulaire uniforme de rayon $R$, de période $T$ et de phase à l'origine $\\phi$. \n",
    "\n",
    "Dans quelle direction (quel angle par rapport à la direction de l'axe $X$) pointe l'objet à la date $t=0$ ?"
   ]
  },
  {
   "cell_type": "markdown",
   "metadata": {},
   "source": [
    "## Données\n",
    "\n",
    "Le fichier DataMars.csv contient les coordonnées (longitude et latitude) de la position de Mars par rapport au centre de la Terre en fonction de la date entre 2015 et 2017. Notons que la latitude est définie ici par rapport au plan de l'écliptique. Les axes $x$ et $y$ sont de même direction pour les référentiels héliocentrique (centré sur le Soleil) et géocentrique (centré sur la Terre).\n",
    "\n",
    "Le centre de la boucle peut s'observer à la date du 25 mai 2016, à la longitude de 240.5°.\n",
    "\n",
    "\n",
    "\n",
    ">**NOTE**  \n",
    ">Pour lire fichier csv, on peut utiliser la fonction `read_csv` du module Pandas, en utilisant l'option `comment = '#'`\n",
    "\n",
    "\n",
    "*(DataMars.csv a été construit à partir des données de http://vo.imcce.fr/webservices/miriade/?forms)*\n",
    "\n",
    "\n",
    "## Modèle\n",
    "\n",
    "Vous allez utiliser un modèle bidimensionnel du mouvement de la Terre et de Mars autour du Soleil. On considérera le mouvement des deux planètes comme circulaire uniforme et contenu dans le plan de l'écliptique."
   ]
  },
  {
   "cell_type": "markdown",
   "metadata": {},
   "source": [
    "![solar.png](solar.png)"
   ]
  },
  {
   "cell_type": "markdown",
   "metadata": {},
   "source": [
    "Ce modèle vous permettra de calculer la longitude de Mars vue depuis la Terre (i.e. l'angle $\\phi_{app}$ dans le réferentiel géocentrique) en fonction du temps.\n",
    "\n",
    ">**NOTE**  \n",
    ">La fonction `numpy.arctan(y / x)` donnant un résultat entre $-\\frac{\\pi}{2}$ et $\\frac{\\pi}{2}$, nous vous conseillons de lui préférer la fonction `numpy.arctan2(y, x)` qui donne un résultat entre $-\\pi$ et $\\pi$.\n",
    "\n",
    "Vous pourrez ensuite comparer le modèle (longitude calculée) aux données astronomiques (longitude mesurée).\n",
    "\n",
    ">**INDICE**  \n",
    ">Le mouvement rétrograde apparent s'observe quand, dans le réferentiel héliocentrique, la Terre \"dépasse\" Mars. Au \"milieu\" du mouvement rétrograde la Terre et Mars sont donc dans la même direction par rapport au Soleil (Soleil, Terre et Mars sont alignés). En choisissant judiciseusement la date $t=0$ et la phase à l'origine pour les deux planètes, on peut faire coïncider le modèle aux données à cet instant.\n",
    "\n",
    "\n",
    "### Grandeurs utiles :\n",
    "\n",
    "Rayon de l'orbite de la Terre : 1 UA  \n",
    "Période de révolution de la Terre : 365.256 jours  \n",
    "Rayon de l'orbite de Mars : 1.52371 UA  \n",
    "Période de révolution de Mars : 686.885 jours\n",
    "\n",
    "\n",
    "## Méthodes\n",
    "\n",
    "Vous allez utiliser une représentation graphique pour illustrer votre modèle. Pour cela, il faut représenter sur un graphique à la fois les données et le modèle. Vous prendrez un soin particulier pour que le graphique soit lisible et compréhensible.\n",
    "\n",
    "Voici un exemple de représentation graphique :"
   ]
  },
  {
   "cell_type": "markdown",
   "metadata": {},
   "source": [
    "![graph.png](./graph.png)"
   ]
  },
  {
   "cell_type": "markdown",
   "metadata": {},
   "source": [
    "## Compte-rendu\n",
    "\n",
    "Vous rendrez un compte-rendu sous la forme d’un Jupyter Notebook (et d’une partie rédigée à la main si vous le souhaitez). Vous apporterez un soin particulier à la rédaction, à l’explication de la résolution du problème, et à l’explication du script (code commenté). Pour cela, vous ferez différentes sections et vous utiliserez des cellules de texte dans le notebook. Voici un exemple de cellule de texte :\n",
    "```\n",
    "# Section 1\n",
    "## Sous-section 1\n",
    "Du texte\n",
    "- une liste\n",
    "\n",
    "une formule latex $k=2$\n",
    "```\n",
    "\n",
    "Vous trouverez un formulaire détaillé du formatage des cellules de texte sur le Moodle, [ou bien ici](https://github.com/adam-p/markdown-here/wiki/Markdown-Cheatsheet#lines).\n",
    "\n",
    "Vous rendrez votre compte-rendu dans l’activité devoir correspondante de Moodle."
   ]
  }
 ],
 "metadata": {
  "kernelspec": {
   "display_name": "Python 3",
   "language": "python",
   "name": "python3"
  },
  "language_info": {
   "codemirror_mode": {
    "name": "ipython",
    "version": 3
   },
   "file_extension": ".py",
   "mimetype": "text/x-python",
   "name": "python",
   "nbconvert_exporter": "python",
   "pygments_lexer": "ipython3",
   "version": "3.8.8"
  }
 },
 "nbformat": 4,
 "nbformat_minor": 4
}
