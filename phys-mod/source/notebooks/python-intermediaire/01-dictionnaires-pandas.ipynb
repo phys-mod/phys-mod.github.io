{
 "cells": [
  {
   "cell_type": "markdown",
   "metadata": {},
   "source": [
    "# Dictionnaires et Pandas"
   ]
  },
  {
   "cell_type": "markdown",
   "metadata": {},
   "source": [
    "## **Vidéo**: Dictionnaires"
   ]
  },
  {
   "cell_type": "code",
   "execution_count": 1,
   "metadata": {
    "tags": [
     "remove-input"
    ]
   },
   "outputs": [
    {
     "data": {
      "text/html": [
       "<iframe src=\"https://sorbonne-universite.cloud.panopto.eu/Panopto/Pages/Embed.aspx?id=abf874a0-6e15-4fab-977c-ae1400dfa2bf&autoplay=false&offerviewer=true&showtitle=true&showbrand=false&captions=false&interactivity=all\" height=\"405\" width=\"720\" style=\"border: 1px solid #464646;\" allowfullscreen allow=\"autoplay\"></iframe>\n"
      ],
      "text/plain": [
       "<IPython.core.display.HTML object>"
      ]
     },
     "metadata": {},
     "output_type": "display_data"
    }
   ],
   "source": [
    "%%HTML\n",
    "<iframe src=\"https://sorbonne-universite.cloud.panopto.eu/Panopto/Pages/Embed.aspx?id=abf874a0-6e15-4fab-977c-ae1400dfa2bf&autoplay=false&offerviewer=true&showtitle=true&showbrand=false&captions=false&interactivity=all\" height=\"405\" width=\"720\" style=\"border: 1px solid #464646;\" allowfullscreen allow=\"autoplay\"></iframe>"
   ]
  },
  {
   "cell_type": "markdown",
   "metadata": {},
   "source": [
    "## Les dictionnaires\n",
    "\n",
    "Un dictionnaire ressemble à une liste mais il est plus général. Alors que les indices d'une liste doivent être des entiers, dans un dictionnaire, les indices peuvent être de types différents.\n",
    "\n",
    "Un dictionnaire contient une collection d'indices, appelés **clés**, et une collection de valeurs. À chaque *clé* correspond une *valeur*, ce que l'on appelle une **paire clé-valeur**, ou **item**.\n",
    "\n",
    "La syntaxe pour définir un dictionnaire est :"
   ]
  },
  {
   "cell_type": "code",
   "execution_count": 2,
   "metadata": {},
   "outputs": [],
   "source": [
    "my_dict = {\n",
    "   \"key1\": \"value1\",\n",
    "   \"key2\": \"value2\",\n",
    "}"
   ]
  },
  {
   "cell_type": "markdown",
   "metadata": {},
   "source": [
    "Définissons 2 listes nous donnant les pays européens et leur capitale :"
   ]
  },
  {
   "cell_type": "code",
   "execution_count": 3,
   "metadata": {},
   "outputs": [],
   "source": [
    "pays = ['allemagne', 'autriche', 'belgique', 'bulgarie', 'chypre', 'croatie', 'danemark', 'espagne', 'estonie', \n",
    "        'finlande', 'france', 'grèce', 'hongrie', 'irlande', 'italie', 'lettonie', 'lituanie', 'luxembourg', \n",
    "        'malte', 'pays-bas', 'pologne', 'portugal', 'république tchèque', 'roumanie', 'slovaquie', 'slovénie', 'suède']\n",
    "capitales = ['berlin', 'vienne', 'bruxelles', 'sofia', 'nicosie', 'zagreb', 'copenhague', 'madrid', 'tallinn', \n",
    "             'helsinki', 'paris', 'athènes', 'budapest', 'dublin', 'rome', 'riga', 'vilnius', 'luxembourg', 'la valette',\n",
    "             'amsterdam', 'varsovie', 'lisbonne', 'prague', 'bucarest', 'bratislava', 'ljubljana', 'stockholm']"
   ]
  },
  {
   "cell_type": "markdown",
   "metadata": {},
   "source": [
    "Nous voulons trouver la capitale de la Hongrie. Nous pouvons utiliser la méthode de liste `index()` :"
   ]
  },
  {
   "cell_type": "code",
   "execution_count": 4,
   "metadata": {
    "tags": []
   },
   "outputs": [
    {
     "name": "stdout",
     "output_type": "stream",
     "text": [
      "Budapest\n"
     ]
    }
   ],
   "source": [
    "# Trouver l'indice de 'hongrie'\n",
    "ind_hongrie = pays.index('hongrie')\n",
    "\n",
    "# Afficher la capitale de la Hongrie\n",
    "print(capitales[ind_hongrie].capitalize())"
   ]
  },
  {
   "cell_type": "markdown",
   "metadata": {},
   "source": [
    "Maintenant, définissons un dictionnaire contenant les même informations :"
   ]
  },
  {
   "cell_type": "code",
   "execution_count": 5,
   "metadata": {},
   "outputs": [],
   "source": [
    "europe = {\n",
    "    'allemagne' : 'berlin',\n",
    "    'autriche' : 'vienne',\n",
    "    'belgique' : 'bruxelles',\n",
    "    'bulgarie' : 'sofia',\n",
    "    'chypre' : 'nicosie',\n",
    "    'croatie' : 'zagreb',\n",
    "    'danemark' : 'copenhague',\n",
    "    'espagne' : 'madrid',\n",
    "    'estonie' : 'tallinn',\n",
    "    'finlande' : 'helsinki',\n",
    "    'france' : 'paris',\n",
    "    'grèce' : 'athènes',\n",
    "    'hongrie' : 'budapest',\n",
    "    'irlande' : 'dublin',\n",
    "    'italie' : 'rome',\n",
    "    'lettonie' : 'riga',\n",
    "    'lituanie' : 'vilnius',\n",
    "    'luxembourg' : 'luxembourg',\n",
    "    'malte' : 'la valette',\n",
    "    'pays-bas' : 'amsterdam',\n",
    "    'pologne' : 'varsovie',\n",
    "    'portugal' : 'lisbonne',\n",
    "    'république tchèque' : 'prague',\n",
    "    'roumanie' : 'bucarest',\n",
    "    'slovaquie' : 'bratislava',\n",
    "    'slovénie' : 'ljubljana',\n",
    "    'suède' : 'stockholm'\n",
    "}"
   ]
  },
  {
   "cell_type": "markdown",
   "metadata": {
    "tags": []
   },
   "source": [
    "Pour accéder à la *valeur* associée à une *clé* donnée, il suffit alors d'utiliser la clé en indice du dictionnaire. Ainsi, pour afficher la capitale de la Hongrie :"
   ]
  },
  {
   "cell_type": "code",
   "execution_count": 6,
   "metadata": {},
   "outputs": [
    {
     "data": {
      "text/plain": [
       "'budapest'"
      ]
     },
     "execution_count": 6,
     "metadata": {},
     "output_type": "execute_result"
    }
   ],
   "source": [
    "europe['hongrie']"
   ]
  },
  {
   "cell_type": "markdown",
   "metadata": {},
   "source": [
    "Il est facile avec un dictionnaire d'ajouter ou enlever une paire clé-valeur, ou bien de changer une valeur :"
   ]
  },
  {
   "cell_type": "code",
   "execution_count": 7,
   "metadata": {},
   "outputs": [
    {
     "data": {
      "text/plain": [
       "True"
      ]
     },
     "execution_count": 7,
     "metadata": {},
     "output_type": "execute_result"
    }
   ],
   "source": [
    "# Ajouter la Turqie au dictionnaire\n",
    "europe['turquie'] = 'istanbul'\n",
    "\n",
    "# Vérifier que le pays est bien contenu dans le dictionnaire\n",
    "'turquie' in europe"
   ]
  },
  {
   "cell_type": "code",
   "execution_count": 8,
   "metadata": {
    "tags": []
   },
   "outputs": [
    {
     "name": "stdout",
     "output_type": "stream",
     "text": [
      "Ankara\n"
     ]
    }
   ],
   "source": [
    "# Changer le nom de la capitale de la Turquie (et oui ce n'est pas Istanbul...)\n",
    "europe['turquie'] = 'ankara'\n",
    "\n",
    "# Afficher la capitale de la Turquie\n",
    "print(europe['turquie'].capitalize())"
   ]
  },
  {
   "cell_type": "code",
   "execution_count": 9,
   "metadata": {},
   "outputs": [
    {
     "data": {
      "text/plain": [
       "False"
      ]
     },
     "execution_count": 9,
     "metadata": {},
     "output_type": "execute_result"
    }
   ],
   "source": [
    "# Enlever la paire clé-valeur du dictionnaire\n",
    "del(europe['turquie'])\n",
    "\n",
    "# Vérifier que le pays n'est pas contenu dans le dictionnaire\n",
    "'turquie' in europe"
   ]
  },
  {
   "cell_type": "markdown",
   "metadata": {},
   "source": [
    "## **Vidéo**: L'objet DataFrame"
   ]
  },
  {
   "cell_type": "code",
   "execution_count": 10,
   "metadata": {
    "tags": [
     "remove-input"
    ]
   },
   "outputs": [
    {
     "data": {
      "text/html": [
       "<iframe src=\"https://sorbonne-universite.cloud.panopto.eu/Panopto/Pages/Embed.aspx?id=c59d5c9e-97ab-45b3-b24d-adf900ff9859&autoplay=false&offerviewer=true&showtitle=true&showbrand=false&captions=false&interactivity=all\" height=\"405\" width=\"720\" style=\"border: 1px solid #464646;\" allowfullscreen allow=\"autoplay\"></iframe>\n"
      ],
      "text/plain": [
       "<IPython.core.display.HTML object>"
      ]
     },
     "metadata": {},
     "output_type": "display_data"
    }
   ],
   "source": [
    "%%HTML\n",
    "<iframe src=\"https://sorbonne-universite.cloud.panopto.eu/Panopto/Pages/Embed.aspx?id=c59d5c9e-97ab-45b3-b24d-adf900ff9859&autoplay=false&offerviewer=true&showtitle=true&showbrand=false&captions=false&interactivity=all\" height=\"405\" width=\"720\" style=\"border: 1px solid #464646;\" allowfullscreen allow=\"autoplay\"></iframe>"
   ]
  },
  {
   "cell_type": "markdown",
   "metadata": {},
   "source": [
    "## Pandas DataFrames\n",
    "\n",
    "[Pandas](https://pandas.pydata.org/) est un module de Python pour l'analyse et la manipulation de données. L'objet de base de Pandas est le *DataFrame*, qui est un tableau similaire aux feuilles Excel ou LibreOffice que vous devez connaître. Le module Pandas fonctionne en harmonie avec les modules [Numpy](https://numpy.org/) et [Matplotlib](https://matplotlib.org/) vus dans les cours précédents.\n",
    "\n",
    "Voyons comment créer un DataFrame à partir d'un dictionnaire. Nous allons reprendre les listes créées plus haut sur les pays et capitales européennes, les transformer en tableaux Numpy, et y ajouter d'autres informations :"
   ]
  },
  {
   "cell_type": "code",
   "execution_count": 11,
   "metadata": {},
   "outputs": [],
   "source": [
    "# Importation du module Numpy\n",
    "import numpy as np\n",
    "\n",
    "# Importation du module Pandas\n",
    "import pandas as pd\n",
    "\n",
    "# Création des tableaux Numpy à partir des listes des pays et des capitales : type string\n",
    "np_pays = np.array(pays)\n",
    "np_capitales = np.array(capitales)\n",
    "\n",
    "# Liste avec les populations des pays européens : type integer\n",
    "np_population = np.array([82162000, 8700471, 11289853, 7153784, 848319, 4190669, 5659715, 46438422, 1315944, \n",
    "                       5401267, 66661621, 10793526, 9830485, 4658530, 60665551, 1968957, 2888558, 576249, \n",
    "                       434403, 16979120, 37967209, 10341330, 10553853, 19759968, 5426252, 2064188, 9851017],\n",
    "                       dtype = 'int64')\n",
    "\n",
    "# Liste avec les dates d'adhésion des pays à l'UE : type datetime\n",
    "np_date = np.array(['1957', '1995', '1957', '2007', '2004', '2013', '1973', '1986', '2004', '1995',\n",
    "                    '1957', '1981', '2004', '1973', '1957', '2004', '2004', '1957', '2004', '1957',\n",
    "                    '2004', '1986', '2004', '2007', '2004', '2004', '1995'],\n",
    "                    dtype = 'datetime64[Y]')"
   ]
  },
  {
   "cell_type": "markdown",
   "metadata": {},
   "source": [
    "Maintenant, créons un dictionnaire en utilisant les tableaux Numpy dans les paires clé-valeur :"
   ]
  },
  {
   "cell_type": "code",
   "execution_count": 12,
   "metadata": {
    "tags": []
   },
   "outputs": [],
   "source": [
    "dic_europe = {\n",
    "    \"pays\" : np_pays,\n",
    "    \"capitale\" : np_capitales,\n",
    "    \"population\" : np_population,\n",
    "    \"date d'adhésion\" : np_date\n",
    "}"
   ]
  },
  {
   "cell_type": "markdown",
   "metadata": {},
   "source": [
    "Pour créer le *DataFrame* à partir du dictionnaire il suffit d'utiliser la fonction `DataFrame()` de Pandas :"
   ]
  },
  {
   "cell_type": "code",
   "execution_count": 13,
   "metadata": {
    "tags": []
   },
   "outputs": [
    {
     "data": {
      "text/html": [
       "<div>\n",
       "<style scoped>\n",
       "    .dataframe tbody tr th:only-of-type {\n",
       "        vertical-align: middle;\n",
       "    }\n",
       "\n",
       "    .dataframe tbody tr th {\n",
       "        vertical-align: top;\n",
       "    }\n",
       "\n",
       "    .dataframe thead th {\n",
       "        text-align: right;\n",
       "    }\n",
       "</style>\n",
       "<table border=\"1\" class=\"dataframe\">\n",
       "  <thead>\n",
       "    <tr style=\"text-align: right;\">\n",
       "      <th></th>\n",
       "      <th>pays</th>\n",
       "      <th>capitale</th>\n",
       "      <th>population</th>\n",
       "      <th>date d'adhésion</th>\n",
       "    </tr>\n",
       "  </thead>\n",
       "  <tbody>\n",
       "    <tr>\n",
       "      <th>0</th>\n",
       "      <td>allemagne</td>\n",
       "      <td>berlin</td>\n",
       "      <td>82162000</td>\n",
       "      <td>1957-01-01</td>\n",
       "    </tr>\n",
       "    <tr>\n",
       "      <th>1</th>\n",
       "      <td>autriche</td>\n",
       "      <td>vienne</td>\n",
       "      <td>8700471</td>\n",
       "      <td>1995-01-01</td>\n",
       "    </tr>\n",
       "    <tr>\n",
       "      <th>2</th>\n",
       "      <td>belgique</td>\n",
       "      <td>bruxelles</td>\n",
       "      <td>11289853</td>\n",
       "      <td>1957-01-01</td>\n",
       "    </tr>\n",
       "    <tr>\n",
       "      <th>3</th>\n",
       "      <td>bulgarie</td>\n",
       "      <td>sofia</td>\n",
       "      <td>7153784</td>\n",
       "      <td>2007-01-01</td>\n",
       "    </tr>\n",
       "    <tr>\n",
       "      <th>4</th>\n",
       "      <td>chypre</td>\n",
       "      <td>nicosie</td>\n",
       "      <td>848319</td>\n",
       "      <td>2004-01-01</td>\n",
       "    </tr>\n",
       "    <tr>\n",
       "      <th>5</th>\n",
       "      <td>croatie</td>\n",
       "      <td>zagreb</td>\n",
       "      <td>4190669</td>\n",
       "      <td>2013-01-01</td>\n",
       "    </tr>\n",
       "    <tr>\n",
       "      <th>6</th>\n",
       "      <td>danemark</td>\n",
       "      <td>copenhague</td>\n",
       "      <td>5659715</td>\n",
       "      <td>1973-01-01</td>\n",
       "    </tr>\n",
       "    <tr>\n",
       "      <th>7</th>\n",
       "      <td>espagne</td>\n",
       "      <td>madrid</td>\n",
       "      <td>46438422</td>\n",
       "      <td>1986-01-01</td>\n",
       "    </tr>\n",
       "    <tr>\n",
       "      <th>8</th>\n",
       "      <td>estonie</td>\n",
       "      <td>tallinn</td>\n",
       "      <td>1315944</td>\n",
       "      <td>2004-01-01</td>\n",
       "    </tr>\n",
       "    <tr>\n",
       "      <th>9</th>\n",
       "      <td>finlande</td>\n",
       "      <td>helsinki</td>\n",
       "      <td>5401267</td>\n",
       "      <td>1995-01-01</td>\n",
       "    </tr>\n",
       "    <tr>\n",
       "      <th>10</th>\n",
       "      <td>france</td>\n",
       "      <td>paris</td>\n",
       "      <td>66661621</td>\n",
       "      <td>1957-01-01</td>\n",
       "    </tr>\n",
       "    <tr>\n",
       "      <th>11</th>\n",
       "      <td>grèce</td>\n",
       "      <td>athènes</td>\n",
       "      <td>10793526</td>\n",
       "      <td>1981-01-01</td>\n",
       "    </tr>\n",
       "    <tr>\n",
       "      <th>12</th>\n",
       "      <td>hongrie</td>\n",
       "      <td>budapest</td>\n",
       "      <td>9830485</td>\n",
       "      <td>2004-01-01</td>\n",
       "    </tr>\n",
       "    <tr>\n",
       "      <th>13</th>\n",
       "      <td>irlande</td>\n",
       "      <td>dublin</td>\n",
       "      <td>4658530</td>\n",
       "      <td>1973-01-01</td>\n",
       "    </tr>\n",
       "    <tr>\n",
       "      <th>14</th>\n",
       "      <td>italie</td>\n",
       "      <td>rome</td>\n",
       "      <td>60665551</td>\n",
       "      <td>1957-01-01</td>\n",
       "    </tr>\n",
       "    <tr>\n",
       "      <th>15</th>\n",
       "      <td>lettonie</td>\n",
       "      <td>riga</td>\n",
       "      <td>1968957</td>\n",
       "      <td>2004-01-01</td>\n",
       "    </tr>\n",
       "    <tr>\n",
       "      <th>16</th>\n",
       "      <td>lituanie</td>\n",
       "      <td>vilnius</td>\n",
       "      <td>2888558</td>\n",
       "      <td>2004-01-01</td>\n",
       "    </tr>\n",
       "    <tr>\n",
       "      <th>17</th>\n",
       "      <td>luxembourg</td>\n",
       "      <td>luxembourg</td>\n",
       "      <td>576249</td>\n",
       "      <td>1957-01-01</td>\n",
       "    </tr>\n",
       "    <tr>\n",
       "      <th>18</th>\n",
       "      <td>malte</td>\n",
       "      <td>la valette</td>\n",
       "      <td>434403</td>\n",
       "      <td>2004-01-01</td>\n",
       "    </tr>\n",
       "    <tr>\n",
       "      <th>19</th>\n",
       "      <td>pays-bas</td>\n",
       "      <td>amsterdam</td>\n",
       "      <td>16979120</td>\n",
       "      <td>1957-01-01</td>\n",
       "    </tr>\n",
       "    <tr>\n",
       "      <th>20</th>\n",
       "      <td>pologne</td>\n",
       "      <td>varsovie</td>\n",
       "      <td>37967209</td>\n",
       "      <td>2004-01-01</td>\n",
       "    </tr>\n",
       "    <tr>\n",
       "      <th>21</th>\n",
       "      <td>portugal</td>\n",
       "      <td>lisbonne</td>\n",
       "      <td>10341330</td>\n",
       "      <td>1986-01-01</td>\n",
       "    </tr>\n",
       "    <tr>\n",
       "      <th>22</th>\n",
       "      <td>république tchèque</td>\n",
       "      <td>prague</td>\n",
       "      <td>10553853</td>\n",
       "      <td>2004-01-01</td>\n",
       "    </tr>\n",
       "    <tr>\n",
       "      <th>23</th>\n",
       "      <td>roumanie</td>\n",
       "      <td>bucarest</td>\n",
       "      <td>19759968</td>\n",
       "      <td>2007-01-01</td>\n",
       "    </tr>\n",
       "    <tr>\n",
       "      <th>24</th>\n",
       "      <td>slovaquie</td>\n",
       "      <td>bratislava</td>\n",
       "      <td>5426252</td>\n",
       "      <td>2004-01-01</td>\n",
       "    </tr>\n",
       "    <tr>\n",
       "      <th>25</th>\n",
       "      <td>slovénie</td>\n",
       "      <td>ljubljana</td>\n",
       "      <td>2064188</td>\n",
       "      <td>2004-01-01</td>\n",
       "    </tr>\n",
       "    <tr>\n",
       "      <th>26</th>\n",
       "      <td>suède</td>\n",
       "      <td>stockholm</td>\n",
       "      <td>9851017</td>\n",
       "      <td>1995-01-01</td>\n",
       "    </tr>\n",
       "  </tbody>\n",
       "</table>\n",
       "</div>"
      ],
      "text/plain": [
       "                  pays    capitale  population date d'adhésion\n",
       "0            allemagne      berlin    82162000      1957-01-01\n",
       "1             autriche      vienne     8700471      1995-01-01\n",
       "2             belgique   bruxelles    11289853      1957-01-01\n",
       "3             bulgarie       sofia     7153784      2007-01-01\n",
       "4               chypre     nicosie      848319      2004-01-01\n",
       "5              croatie      zagreb     4190669      2013-01-01\n",
       "6             danemark  copenhague     5659715      1973-01-01\n",
       "7              espagne      madrid    46438422      1986-01-01\n",
       "8              estonie     tallinn     1315944      2004-01-01\n",
       "9             finlande    helsinki     5401267      1995-01-01\n",
       "10              france       paris    66661621      1957-01-01\n",
       "11               grèce     athènes    10793526      1981-01-01\n",
       "12             hongrie    budapest     9830485      2004-01-01\n",
       "13             irlande      dublin     4658530      1973-01-01\n",
       "14              italie        rome    60665551      1957-01-01\n",
       "15            lettonie        riga     1968957      2004-01-01\n",
       "16            lituanie     vilnius     2888558      2004-01-01\n",
       "17          luxembourg  luxembourg      576249      1957-01-01\n",
       "18               malte  la valette      434403      2004-01-01\n",
       "19            pays-bas   amsterdam    16979120      1957-01-01\n",
       "20             pologne    varsovie    37967209      2004-01-01\n",
       "21            portugal    lisbonne    10341330      1986-01-01\n",
       "22  république tchèque      prague    10553853      2004-01-01\n",
       "23            roumanie    bucarest    19759968      2007-01-01\n",
       "24           slovaquie  bratislava     5426252      2004-01-01\n",
       "25            slovénie   ljubljana     2064188      2004-01-01\n",
       "26               suède   stockholm     9851017      1995-01-01"
      ]
     },
     "execution_count": 13,
     "metadata": {},
     "output_type": "execute_result"
    }
   ],
   "source": [
    "# Création du DataFrame\n",
    "df_europe = pd.DataFrame(data = dic_europe)\n",
    "\n",
    "# Affichage du DataFrame\n",
    "df_europe"
   ]
  },
  {
   "cell_type": "markdown",
   "metadata": {},
   "source": [
    "On voit que :\n",
    "\n",
    "- les clés du dictionnaire ont été utilisées pour nommer les colonnes du DataFrame,\n",
    "- les listes ont été utilisées pour remplir chaque colonne\n",
    "- les lignes sont étiquetées, par défaut avec des entiers à partir de l'indice 0 (mais il est possible d'utiliser d'autres types pour les étiquettes, comme pour les clés d'un dictionnaire, ce que nous verrons au paragraphe sur l'objet *index*)\n",
    "\n",
    "Nous pouvons vérifier le type du DataFrame avec la fonction `type()` :"
   ]
  },
  {
   "cell_type": "code",
   "execution_count": 14,
   "metadata": {
    "tags": []
   },
   "outputs": [
    {
     "name": "stdout",
     "output_type": "stream",
     "text": [
      "<class 'pandas.core.frame.DataFrame'>\n"
     ]
    }
   ],
   "source": [
    "# Affichage du type\n",
    "print(type(df_europe))"
   ]
  },
  {
   "cell_type": "markdown",
   "metadata": {},
   "source": [
    "Les attributs de DataFrame sont :\n",
    "\n",
    "| Attributs | Description\n",
    "|--|--\n",
    "| `ndim` | nombre de dimensions\n",
    "| `shape` | forme, nombre d'éléments dans chaque dimension\n",
    "| `size` | nombre d'éléments"
   ]
  },
  {
   "cell_type": "code",
   "execution_count": 15,
   "metadata": {
    "tags": []
   },
   "outputs": [
    {
     "name": "stdout",
     "output_type": "stream",
     "text": [
      "ndim : 2\n",
      "shape : (27, 4)\n",
      "size : 108\n"
     ]
    }
   ],
   "source": [
    "print('ndim :', df_europe.ndim)\n",
    "print('shape :', df_europe.shape)\n",
    "print('size :', df_europe.size)"
   ]
  },
  {
   "cell_type": "markdown",
   "metadata": {},
   "source": [
    "Les DataFrame contiennent parfois beaucoup de lignes. On peut afficher seulement les premières ou dernières lignes avec les méthodes `head()` et `tail()` :"
   ]
  },
  {
   "cell_type": "code",
   "execution_count": 16,
   "metadata": {},
   "outputs": [
    {
     "data": {
      "text/html": [
       "<div>\n",
       "<style scoped>\n",
       "    .dataframe tbody tr th:only-of-type {\n",
       "        vertical-align: middle;\n",
       "    }\n",
       "\n",
       "    .dataframe tbody tr th {\n",
       "        vertical-align: top;\n",
       "    }\n",
       "\n",
       "    .dataframe thead th {\n",
       "        text-align: right;\n",
       "    }\n",
       "</style>\n",
       "<table border=\"1\" class=\"dataframe\">\n",
       "  <thead>\n",
       "    <tr style=\"text-align: right;\">\n",
       "      <th></th>\n",
       "      <th>pays</th>\n",
       "      <th>capitale</th>\n",
       "      <th>population</th>\n",
       "      <th>date d'adhésion</th>\n",
       "    </tr>\n",
       "  </thead>\n",
       "  <tbody>\n",
       "    <tr>\n",
       "      <th>0</th>\n",
       "      <td>allemagne</td>\n",
       "      <td>berlin</td>\n",
       "      <td>82162000</td>\n",
       "      <td>1957-01-01</td>\n",
       "    </tr>\n",
       "    <tr>\n",
       "      <th>1</th>\n",
       "      <td>autriche</td>\n",
       "      <td>vienne</td>\n",
       "      <td>8700471</td>\n",
       "      <td>1995-01-01</td>\n",
       "    </tr>\n",
       "  </tbody>\n",
       "</table>\n",
       "</div>"
      ],
      "text/plain": [
       "        pays capitale  population date d'adhésion\n",
       "0  allemagne   berlin    82162000      1957-01-01\n",
       "1   autriche   vienne     8700471      1995-01-01"
      ]
     },
     "execution_count": 16,
     "metadata": {},
     "output_type": "execute_result"
    }
   ],
   "source": [
    "# Afficher les 2 premières lignes\n",
    "df_europe.head(n = 2)"
   ]
  },
  {
   "cell_type": "code",
   "execution_count": 17,
   "metadata": {},
   "outputs": [
    {
     "data": {
      "text/html": [
       "<div>\n",
       "<style scoped>\n",
       "    .dataframe tbody tr th:only-of-type {\n",
       "        vertical-align: middle;\n",
       "    }\n",
       "\n",
       "    .dataframe tbody tr th {\n",
       "        vertical-align: top;\n",
       "    }\n",
       "\n",
       "    .dataframe thead th {\n",
       "        text-align: right;\n",
       "    }\n",
       "</style>\n",
       "<table border=\"1\" class=\"dataframe\">\n",
       "  <thead>\n",
       "    <tr style=\"text-align: right;\">\n",
       "      <th></th>\n",
       "      <th>pays</th>\n",
       "      <th>capitale</th>\n",
       "      <th>population</th>\n",
       "      <th>date d'adhésion</th>\n",
       "    </tr>\n",
       "  </thead>\n",
       "  <tbody>\n",
       "    <tr>\n",
       "      <th>25</th>\n",
       "      <td>slovénie</td>\n",
       "      <td>ljubljana</td>\n",
       "      <td>2064188</td>\n",
       "      <td>2004-01-01</td>\n",
       "    </tr>\n",
       "    <tr>\n",
       "      <th>26</th>\n",
       "      <td>suède</td>\n",
       "      <td>stockholm</td>\n",
       "      <td>9851017</td>\n",
       "      <td>1995-01-01</td>\n",
       "    </tr>\n",
       "  </tbody>\n",
       "</table>\n",
       "</div>"
      ],
      "text/plain": [
       "        pays   capitale  population date d'adhésion\n",
       "25  slovénie  ljubljana     2064188      2004-01-01\n",
       "26     suède  stockholm     9851017      1995-01-01"
      ]
     },
     "execution_count": 17,
     "metadata": {},
     "output_type": "execute_result"
    }
   ],
   "source": [
    "# Afficher les 2 dernières lignes\n",
    "df_europe.tail(n = 2)"
   ]
  },
  {
   "cell_type": "markdown",
   "metadata": {},
   "source": [
    "## **Vidéo**: Les objets Series et Index"
   ]
  },
  {
   "cell_type": "code",
   "execution_count": 18,
   "metadata": {
    "tags": [
     "remove-input"
    ]
   },
   "outputs": [
    {
     "data": {
      "text/html": [
       "<iframe src=\"https://sorbonne-universite.cloud.panopto.eu/Panopto/Pages/Embed.aspx?id=1d90a0c1-5855-4a8c-91d1-ae1c00e31a7d&autoplay=false&offerviewer=true&showtitle=true&showbrand=false&captions=false&interactivity=all\" height=\"405\" width=\"720\" style=\"border: 1px solid #464646;\" allowfullscreen allow=\"autoplay\"></iframe>\n"
      ],
      "text/plain": [
       "<IPython.core.display.HTML object>"
      ]
     },
     "metadata": {},
     "output_type": "display_data"
    }
   ],
   "source": [
    "%%HTML\n",
    "<iframe src=\"https://sorbonne-universite.cloud.panopto.eu/Panopto/Pages/Embed.aspx?id=1d90a0c1-5855-4a8c-91d1-ae1c00e31a7d&autoplay=false&offerviewer=true&showtitle=true&showbrand=false&captions=false&interactivity=all\" height=\"405\" width=\"720\" style=\"border: 1px solid #464646;\" allowfullscreen allow=\"autoplay\"></iframe>"
   ]
  },
  {
   "cell_type": "markdown",
   "metadata": {},
   "source": [
    "## L'objet *Series*"
   ]
  },
  {
   "cell_type": "markdown",
   "metadata": {},
   "source": [
    "Il est possible d'extraire une colonne en mettant en indice le nom de la colonne :"
   ]
  },
  {
   "cell_type": "code",
   "execution_count": 19,
   "metadata": {
    "tags": []
   },
   "outputs": [
    {
     "name": "stdout",
     "output_type": "stream",
     "text": [
      "0              allemagne\n",
      "1               autriche\n",
      "2               belgique\n",
      "3               bulgarie\n",
      "4                 chypre\n",
      "5                croatie\n",
      "6               danemark\n",
      "7                espagne\n",
      "8                estonie\n",
      "9               finlande\n",
      "10                france\n",
      "11                 grèce\n",
      "12               hongrie\n",
      "13               irlande\n",
      "14                italie\n",
      "15              lettonie\n",
      "16              lituanie\n",
      "17            luxembourg\n",
      "18                 malte\n",
      "19              pays-bas\n",
      "20               pologne\n",
      "21              portugal\n",
      "22    république tchèque\n",
      "23              roumanie\n",
      "24             slovaquie\n",
      "25              slovénie\n",
      "26                 suède\n",
      "Name: pays, dtype: object\n"
     ]
    }
   ],
   "source": [
    "# Extraire la colonne pays du DataFrame\n",
    "col_pays = df_europe['pays']\n",
    "\n",
    "# Ou de manière similaire\n",
    "col_pays = df_europe.pays\n",
    "\n",
    "# Affichage\n",
    "print(col_pays)"
   ]
  },
  {
   "cell_type": "markdown",
   "metadata": {},
   "source": [
    "On voit que l'on a extrait la colonne mais aussi les étiquettes des lignes et d'autres informations telles que l'étiquette de la colonne. Une colonne extraite de cette manière est un objet **Series** de Pandas : "
   ]
  },
  {
   "cell_type": "code",
   "execution_count": 20,
   "metadata": {
    "tags": []
   },
   "outputs": [
    {
     "name": "stdout",
     "output_type": "stream",
     "text": [
      "<class 'pandas.core.series.Series'>\n"
     ]
    }
   ],
   "source": [
    "print(type(col_pays))"
   ]
  },
  {
   "cell_type": "markdown",
   "metadata": {},
   "source": [
    "On accède aux valeurs d'un objet *Series* de la même manière qu'un dictionnaire, c'est-à-dire en écrivant l'étiquette en indice de l'objet :"
   ]
  },
  {
   "cell_type": "code",
   "execution_count": 21,
   "metadata": {
    "tags": []
   },
   "outputs": [
    {
     "name": "stdout",
     "output_type": "stream",
     "text": [
      "roumanie\n"
     ]
    }
   ],
   "source": [
    "# Afficher la valeur de la \"Series\" col_pays correspondant a l'étiquette 23\n",
    "print(col_pays[23])"
   ]
  },
  {
   "cell_type": "markdown",
   "metadata": {},
   "source": [
    "Pour accéder à une ligne, il faut utiliser un *accesseur* `.loc[]` :"
   ]
  },
  {
   "cell_type": "code",
   "execution_count": 22,
   "metadata": {
    "tags": []
   },
   "outputs": [
    {
     "name": "stdout",
     "output_type": "stream",
     "text": [
      "pays                          roumanie\n",
      "capitale                      bucarest\n",
      "population                    19759968\n",
      "date d'adhésion    2007-01-01 00:00:00\n",
      "Name: 23, dtype: object\n"
     ]
    }
   ],
   "source": [
    "# Extraire la ligne 23 du DataFrame\n",
    "ligne_23 = df_europe.loc[23]\n",
    "\n",
    "# Affichage\n",
    "print(ligne_23)"
   ]
  },
  {
   "cell_type": "markdown",
   "metadata": {},
   "source": [
    "Une ligne extraite de cette façon est aussi un objet *Series* :"
   ]
  },
  {
   "cell_type": "code",
   "execution_count": 23,
   "metadata": {},
   "outputs": [
    {
     "data": {
      "text/plain": [
       "pandas.core.series.Series"
      ]
     },
     "execution_count": 23,
     "metadata": {},
     "output_type": "execute_result"
    }
   ],
   "source": [
    "type(ligne_23)"
   ]
  },
  {
   "cell_type": "markdown",
   "metadata": {},
   "source": [
    "Les noms des colonnes ont été utilisés pour étiqueter les lignes de ce nouvel objet, et l'étiquette de la ligne a été utilisée pour nommer l'objet."
   ]
  },
  {
   "cell_type": "markdown",
   "metadata": {},
   "source": [
    "### Exercice\n",
    "\n",
    "1. Créer un objet *Series* contenant la colonne date d'adhésion\n",
    "2. Créer un objet *Series* contenant la ligne 12"
   ]
  },
  {
   "cell_type": "code",
   "execution_count": 24,
   "metadata": {
    "tags": [
     "solution",
     "hide-input"
    ]
   },
   "outputs": [],
   "source": [
    "# 1\n",
    "col_adhesion = df_europe[\"date d'adhésion\"]\n",
    "\n",
    "# 2\n",
    "ligne_12 = df_europe.loc[12]"
   ]
  },
  {
   "cell_type": "markdown",
   "metadata": {},
   "source": [
    "## L'objet *Index*\n",
    "\n",
    "On peut extraire les étiquettes des lignes et des colonnes avec `.index` et `.columns` :"
   ]
  },
  {
   "cell_type": "code",
   "execution_count": 25,
   "metadata": {
    "tags": []
   },
   "outputs": [
    {
     "name": "stdout",
     "output_type": "stream",
     "text": [
      "RangeIndex(start=0, stop=27, step=1)\n"
     ]
    }
   ],
   "source": [
    "# Étiquettes des lignes\n",
    "print(df_europe.index)"
   ]
  },
  {
   "cell_type": "code",
   "execution_count": 26,
   "metadata": {
    "tags": []
   },
   "outputs": [
    {
     "name": "stdout",
     "output_type": "stream",
     "text": [
      "Index(['pays', 'capitale', 'population', 'date d'adhésion'], dtype='object')\n"
     ]
    }
   ],
   "source": [
    "# Étiquette des lignes\n",
    "print(df_europe.columns)"
   ]
  },
  {
   "cell_type": "markdown",
   "metadata": {},
   "source": [
    "Ces étiquettes sont des objet Pandas appelés **Index**. Ce sont des tableaux Numpy *immuables*, c'est-à-dire qu'on ne peut pas modifier leurs éléments.\n",
    "\n",
    "On peut par contre changer un *index* entier :"
   ]
  },
  {
   "cell_type": "code",
   "execution_count": 27,
   "metadata": {
    "tags": []
   },
   "outputs": [
    {
     "data": {
      "text/html": [
       "<div>\n",
       "<style scoped>\n",
       "    .dataframe tbody tr th:only-of-type {\n",
       "        vertical-align: middle;\n",
       "    }\n",
       "\n",
       "    .dataframe tbody tr th {\n",
       "        vertical-align: top;\n",
       "    }\n",
       "\n",
       "    .dataframe thead th {\n",
       "        text-align: right;\n",
       "    }\n",
       "</style>\n",
       "<table border=\"1\" class=\"dataframe\">\n",
       "  <thead>\n",
       "    <tr style=\"text-align: right;\">\n",
       "      <th></th>\n",
       "      <th>pays</th>\n",
       "      <th>capitale</th>\n",
       "      <th>population</th>\n",
       "      <th>date d'adhésion</th>\n",
       "    </tr>\n",
       "  </thead>\n",
       "  <tbody>\n",
       "    <tr>\n",
       "      <th>1</th>\n",
       "      <td>allemagne</td>\n",
       "      <td>berlin</td>\n",
       "      <td>82162000</td>\n",
       "      <td>1957-01-01</td>\n",
       "    </tr>\n",
       "  </tbody>\n",
       "</table>\n",
       "</div>"
      ],
      "text/plain": [
       "        pays capitale  population date d'adhésion\n",
       "1  allemagne   berlin    82162000      1957-01-01"
      ]
     },
     "execution_count": 27,
     "metadata": {},
     "output_type": "execute_result"
    }
   ],
   "source": [
    "# Modifier les étiquettes des lignes du DataFrame en les faisant commencer à 1\n",
    "df_europe.index = np.arange(1, 28)\n",
    "\n",
    "# Afficher la premiere ligne\n",
    "df_europe.head(n = 1)"
   ]
  },
  {
   "cell_type": "markdown",
   "metadata": {},
   "source": [
    "## **Vidéo**: Manipulation des données"
   ]
  },
  {
   "cell_type": "code",
   "execution_count": 28,
   "metadata": {
    "tags": [
     "remove-input"
    ]
   },
   "outputs": [
    {
     "data": {
      "text/html": [
       "<iframe src=\"https://sorbonne-universite.cloud.panopto.eu/Panopto/Pages/Embed.aspx?id=626a9544-2c01-43b5-8063-ae0c0131ffb7&autoplay=false&offerviewer=true&showtitle=true&showbrand=false&captions=false&interactivity=all\" height=\"405\" width=\"720\" style=\"border: 1px solid #464646;\" allowfullscreen allow=\"autoplay\"></iframe>\n"
      ],
      "text/plain": [
       "<IPython.core.display.HTML object>"
      ]
     },
     "metadata": {},
     "output_type": "display_data"
    }
   ],
   "source": [
    "%%HTML\n",
    "<iframe src=\"https://sorbonne-universite.cloud.panopto.eu/Panopto/Pages/Embed.aspx?id=626a9544-2c01-43b5-8063-ae0c0131ffb7&autoplay=false&offerviewer=true&showtitle=true&showbrand=false&captions=false&interactivity=all\" height=\"405\" width=\"720\" style=\"border: 1px solid #464646;\" allowfullscreen allow=\"autoplay\"></iframe>"
   ]
  },
  {
   "cell_type": "markdown",
   "metadata": {},
   "source": [
    "## Accéder et modifier les données\n",
    "\n",
    "On peut accéder aux données du DataFrame pour les extraire ou les modifier grâce à des **accesseurs** :\n",
    "\n",
    "| Accesseur | Description\n",
    "|--|--\n",
    "| `.loc[]`  | accepte les étiquettes des lignes ou colonnes et retourne un objet *Series* ou *DataFrame*\n",
    "| `.iloc[]` | accepte les indices des lignes ou colonnes et retourne un objet *Series* ou *DataFrame*\n",
    "| `.at[]`   | accepte les étiquettes des lignes ou colonnes et retourne une valeur unique\n",
    "| `.iat[]`  | accepte les indices des lignes ou colonnes et retourne une valeur unique\n",
    "\n",
    "Comme pour les tableaux Numpy, les accesseurs supportent l'indexation et le tranchage. Voyons quelques exemples :"
   ]
  },
  {
   "cell_type": "code",
   "execution_count": 29,
   "metadata": {
    "tags": []
   },
   "outputs": [
    {
     "name": "stdout",
     "output_type": "stream",
     "text": [
      "1       berlin\n",
      "2       vienne\n",
      "3    bruxelles\n",
      "4        sofia\n",
      "Name: capitale, dtype: object\n"
     ]
    }
   ],
   "source": [
    "# Extraire les capitales des 4 premiers pays\n",
    "print(df_europe.loc[1:4, 'capitale'])"
   ]
  },
  {
   "cell_type": "markdown",
   "metadata": {},
   "source": [
    "Attention, avec `.loc[]` on a utilisé les étiquettes des lignes, décalées de 1 par rapport à leur indice. Pour extraire le  même objet *Series* avec `iloc[]`, on écrira :"
   ]
  },
  {
   "cell_type": "code",
   "execution_count": 30,
   "metadata": {
    "tags": []
   },
   "outputs": [
    {
     "name": "stdout",
     "output_type": "stream",
     "text": [
      "1       berlin\n",
      "2       vienne\n",
      "3    bruxelles\n",
      "4        sofia\n",
      "Name: capitale, dtype: object\n"
     ]
    }
   ],
   "source": [
    "# Extraire les capitales des 4 premiers pays\n",
    "print(df_europe.iloc[0:4, 1])"
   ]
  },
  {
   "cell_type": "markdown",
   "metadata": {},
   "source": [
    "Note :\n",
    "- lorsqu'on accède par étiquettes, la notation m:n signifie $[m,n]$,\n",
    "- lorsqu'on accède par indices, la notation m:n signifie $[m,n[$.\n",
    "\n",
    "Attention aux erreurs !"
   ]
  },
  {
   "cell_type": "markdown",
   "metadata": {},
   "source": [
    "Comme pour les tableaux Numpy, on peut trancher en fournissant une liste : "
   ]
  },
  {
   "cell_type": "code",
   "execution_count": 31,
   "metadata": {
    "tags": []
   },
   "outputs": [
    {
     "data": {
      "text/html": [
       "<div>\n",
       "<style scoped>\n",
       "    .dataframe tbody tr th:only-of-type {\n",
       "        vertical-align: middle;\n",
       "    }\n",
       "\n",
       "    .dataframe tbody tr th {\n",
       "        vertical-align: top;\n",
       "    }\n",
       "\n",
       "    .dataframe thead th {\n",
       "        text-align: right;\n",
       "    }\n",
       "</style>\n",
       "<table border=\"1\" class=\"dataframe\">\n",
       "  <thead>\n",
       "    <tr style=\"text-align: right;\">\n",
       "      <th></th>\n",
       "      <th>pays</th>\n",
       "      <th>population</th>\n",
       "    </tr>\n",
       "  </thead>\n",
       "  <tbody>\n",
       "    <tr>\n",
       "      <th>3</th>\n",
       "      <td>belgique</td>\n",
       "      <td>11289853</td>\n",
       "    </tr>\n",
       "    <tr>\n",
       "      <th>4</th>\n",
       "      <td>bulgarie</td>\n",
       "      <td>7153784</td>\n",
       "    </tr>\n",
       "    <tr>\n",
       "      <th>5</th>\n",
       "      <td>chypre</td>\n",
       "      <td>848319</td>\n",
       "    </tr>\n",
       "    <tr>\n",
       "      <th>6</th>\n",
       "      <td>croatie</td>\n",
       "      <td>4190669</td>\n",
       "    </tr>\n",
       "    <tr>\n",
       "      <th>7</th>\n",
       "      <td>danemark</td>\n",
       "      <td>5659715</td>\n",
       "    </tr>\n",
       "  </tbody>\n",
       "</table>\n",
       "</div>"
      ],
      "text/plain": [
       "       pays  population\n",
       "3  belgique    11289853\n",
       "4  bulgarie     7153784\n",
       "5    chypre      848319\n",
       "6   croatie     4190669\n",
       "7  danemark     5659715"
      ]
     },
     "execution_count": 31,
     "metadata": {},
     "output_type": "execute_result"
    }
   ],
   "source": [
    "# Extraire les noms et les populations des pays 3 à 7\n",
    "df_europe.loc[3:7, ['pays', 'population']]"
   ]
  },
  {
   "cell_type": "markdown",
   "metadata": {},
   "source": [
    "Avec l'accesseur `iloc[]` on écrira :"
   ]
  },
  {
   "cell_type": "code",
   "execution_count": 32,
   "metadata": {
    "tags": []
   },
   "outputs": [
    {
     "data": {
      "text/html": [
       "<div>\n",
       "<style scoped>\n",
       "    .dataframe tbody tr th:only-of-type {\n",
       "        vertical-align: middle;\n",
       "    }\n",
       "\n",
       "    .dataframe tbody tr th {\n",
       "        vertical-align: top;\n",
       "    }\n",
       "\n",
       "    .dataframe thead th {\n",
       "        text-align: right;\n",
       "    }\n",
       "</style>\n",
       "<table border=\"1\" class=\"dataframe\">\n",
       "  <thead>\n",
       "    <tr style=\"text-align: right;\">\n",
       "      <th></th>\n",
       "      <th>pays</th>\n",
       "      <th>population</th>\n",
       "    </tr>\n",
       "  </thead>\n",
       "  <tbody>\n",
       "    <tr>\n",
       "      <th>3</th>\n",
       "      <td>belgique</td>\n",
       "      <td>11289853</td>\n",
       "    </tr>\n",
       "    <tr>\n",
       "      <th>4</th>\n",
       "      <td>bulgarie</td>\n",
       "      <td>7153784</td>\n",
       "    </tr>\n",
       "    <tr>\n",
       "      <th>5</th>\n",
       "      <td>chypre</td>\n",
       "      <td>848319</td>\n",
       "    </tr>\n",
       "    <tr>\n",
       "      <th>6</th>\n",
       "      <td>croatie</td>\n",
       "      <td>4190669</td>\n",
       "    </tr>\n",
       "    <tr>\n",
       "      <th>7</th>\n",
       "      <td>danemark</td>\n",
       "      <td>5659715</td>\n",
       "    </tr>\n",
       "  </tbody>\n",
       "</table>\n",
       "</div>"
      ],
      "text/plain": [
       "       pays  population\n",
       "3  belgique    11289853\n",
       "4  bulgarie     7153784\n",
       "5    chypre      848319\n",
       "6   croatie     4190669\n",
       "7  danemark     5659715"
      ]
     },
     "execution_count": 32,
     "metadata": {},
     "output_type": "execute_result"
    }
   ],
   "source": [
    "# Extraire les noms et les populations des pays 3 à 7\n",
    "df_europe.iloc[2:7, [0, 2]]"
   ]
  },
  {
   "cell_type": "markdown",
   "metadata": {},
   "source": [
    "Pour accéder à une valeur en particulier :"
   ]
  },
  {
   "cell_type": "code",
   "execution_count": 33,
   "metadata": {
    "tags": []
   },
   "outputs": [
    {
     "name": "stdout",
     "output_type": "stream",
     "text": [
      "république tchèque\n",
      "république tchèque\n"
     ]
    }
   ],
   "source": [
    "# Nom du pays 23\n",
    "print(df_europe.at[23, 'pays'])\n",
    "\n",
    "# Ou avec les indices\n",
    "print(df_europe.iat[22, 0])"
   ]
  },
  {
   "cell_type": "markdown",
   "metadata": {},
   "source": [
    "### Exercice\n",
    "\n",
    "1. Extraire les date d'adhésion des pays avec les étiquettes 12 et 25\n",
    "2. Extraire la population du pays avec l'étiquette 6"
   ]
  },
  {
   "cell_type": "code",
   "execution_count": 34,
   "metadata": {
    "tags": [
     "solution",
     "hide-input"
    ]
   },
   "outputs": [
    {
     "name": "stdout",
     "output_type": "stream",
     "text": [
      "12   1981-01-01\n",
      "25   2004-01-01\n",
      "Name: date d'adhésion, dtype: datetime64[s]\n"
     ]
    }
   ],
   "source": [
    "# 1\n",
    "print(df_europe.loc[[12, 25], \"date d'adhésion\"])"
   ]
  },
  {
   "cell_type": "code",
   "execution_count": 35,
   "metadata": {
    "tags": [
     "solution"
    ]
   },
   "outputs": [
    {
     "name": "stdout",
     "output_type": "stream",
     "text": [
      "4190669\n"
     ]
    }
   ],
   "source": [
    "# 2\n",
    "print(df_europe.at[6, \"population\"])"
   ]
  },
  {
   "cell_type": "markdown",
   "metadata": {},
   "source": [
    "## Insérer et supprimer des données\n",
    "\n",
    "Pour insérer une nouvelle ligne, on peut créer un objet *Series* et l'ajouter au DataFrame avec la méthode `.append()`. Supposons que la Turquie joigne l'Union Européenne en 2026 :"
   ]
  },
  {
   "cell_type": "code",
   "execution_count": 36,
   "metadata": {
    "tags": []
   },
   "outputs": [
    {
     "name": "stdout",
     "output_type": "stream",
     "text": [
      "pays                turquie\n",
      "capitale             ankara\n",
      "population         83154997\n",
      "date d'adhésion        2026\n",
      "Name: 28, dtype: object\n"
     ]
    }
   ],
   "source": [
    "# Création de l'objet Series\n",
    "ligne_turquie = pd.Series(data = ['turquie', 'ankara', 83154997, np.datetime64('2026', 'Y')], \n",
    "                          index = df_europe.columns, name = 28)\n",
    "\n",
    "# Affichage\n",
    "print(ligne_turquie)"
   ]
  },
  {
   "cell_type": "code",
   "execution_count": null,
   "metadata": {
    "tags": []
   },
   "outputs": [],
   "source": [
    "# Ajout de la ligne à l'objet DataFrame\n",
    "df_europe = pd.concat([df_europe,ligne_turquie.to_frame().T])\n",
    "\n",
    "# Affichage des 2 dernières lignes\n",
    "df_europe.tail(n = 2)"
   ]
  },
  {
   "cell_type": "markdown",
   "metadata": {},
   "source": [
    "Plusieurs remarques :\n",
    "- Pour créer l'objet *Series* on a utilisé l'option `index` pour nommer les colonnes, et l'option `name` pour lui donner un nom\n",
    "- L'étiquette de la nouvelle ligne de l'objet DataFrame est le nom de l'objet Series\n",
    "- On aurait pu ignorer ce nom en utilisant l'option de la méthode `append()` : `ignore_index = True`\n",
    "\n",
    "La méthode `.drop()` permet de supprimer des lignes :"
   ]
  },
  {
   "cell_type": "code",
   "execution_count": null,
   "metadata": {
    "tags": []
   },
   "outputs": [],
   "source": [
    "# Supprimer la ligne avec l'étiquette 28\n",
    "df_europe = df_europe.drop([28])\n",
    "\n",
    "# Affichage des 2 dernières lignes\n",
    "df_europe.tail(n = 2)"
   ]
  },
  {
   "cell_type": "markdown",
   "metadata": {},
   "source": [
    "Il est beaucoup plus simple d'ajouter une colonne à un DataFrame. On peut le faire de la même manière que l'on ajoute une paire clé-valeur à un dictionnaire. Par exemple, ajoutons la colonne qui donne le nombre de sièges au parlement européen pour chaque pays de l'UE :"
   ]
  },
  {
   "cell_type": "code",
   "execution_count": null,
   "metadata": {
    "tags": []
   },
   "outputs": [],
   "source": [
    "# Nombre de sièges au parlement\n",
    "np_sieges = np.array([96, 18, 21, 17, 6, 11, 13, 54, 6, 13, 74, 21, 21, 11, 73, 8, 11, 6, 6, 26, 51, 21, 21, 32, 13, 8, 20])\n",
    "\n",
    "# Ajout de la colonne\n",
    "df_europe['sièges'] = np_sieges\n",
    "\n",
    "# Affichage des 2 premières lignes\n",
    "df_europe.head(n = 2)"
   ]
  },
  {
   "cell_type": "markdown",
   "metadata": {},
   "source": [
    "## **Vidéo**: Opérations, tri et sauvegarde"
   ]
  },
  {
   "cell_type": "code",
   "execution_count": null,
   "metadata": {
    "tags": [
     "remove-input"
    ]
   },
   "outputs": [],
   "source": [
    "%%HTML\n",
    "<iframe src=\"https://sorbonne-universite.cloud.panopto.eu/Panopto/Pages/Embed.aspx?id=da5793f6-a393-4f4f-afab-ae0c01320b56&autoplay=false&offerviewer=true&showtitle=true&showbrand=false&captions=false&interactivity=all\" height=\"405\" width=\"720\" style=\"border: 1px solid #464646;\" allowfullscreen allow=\"autoplay\"></iframe>"
   ]
  },
  {
   "cell_type": "markdown",
   "metadata": {},
   "source": [
    "## Opérateurs arithmétiques et fonctions\n",
    "\n",
    "Il est possible d'utiliser les opérateurs arithmétiques usuels et les fonctions Numpy sur les colonnes d'un objet DataFrame. Par exemple, calculons le pourcentage de la population dans chaque pays par rapport à la population totale :"
   ]
  },
  {
   "cell_type": "code",
   "execution_count": null,
   "metadata": {
    "tags": []
   },
   "outputs": [],
   "source": [
    "# Population totale\n",
    "pop_tot = df_europe['population'].sum()\n",
    "\n",
    "# Pourcentage de la population\n",
    "pop_pourcentage = df_europe['population'] / pop_tot * 100\n",
    "\n",
    "# Affichage\n",
    "print(pop_pourcentage)"
   ]
  },
  {
   "cell_type": "markdown",
   "metadata": {},
   "source": [
    "### Exercice\n",
    "\n",
    "Nous voulons connaître le poids de chaque pays au parlement par rapport à son nombre d'habitants.\n",
    "\n",
    "1. Calculer le nombre de sièges au parlement par habitant dans chaque pays, c'est-à-dire :\n",
    "\n",
    "$$N_i = \\frac{\\text{nombre de sièges}}{\\text{nombre d'habitants}}$$\n",
    "\n",
    "2. Normaliser le résultat et l'exprimer en pourcentage, c'est-à-dire :\n",
    "\n",
    "$$\\bar{N}_i = \\frac{N_i}{\\sum_i N_i}\\times 100$$\n",
    "\n",
    "3. Ajouter une nouvelle colonne au DataFrame `df_europe` avec le nom `'poids'` qui contient $\\bar{N}_i$\n",
    "4. Afficher les colonnes `'pays'` et `'poids'` du DataFrame `df_europe` pour les 20 premières lignes"
   ]
  },
  {
   "cell_type": "code",
   "execution_count": null,
   "metadata": {
    "tags": [
     "solution",
     "hide-input"
    ]
   },
   "outputs": [],
   "source": [
    "# Nombre de siège par habitant\n",
    "siege_pourcentage = df_europe['sièges'] / df_europe['population']\n",
    "\n",
    "# Normalisation\n",
    "siege_pourcentage = siege_pourcentage / siege_pourcentage.sum() * 100\n",
    "\n",
    "# Ajout d'une colonne poids\n",
    "df_europe['poids'] = siege_pourcentage\n",
    "\n",
    "# Affichage\n",
    "df_europe.loc[1:20, ['pays', 'poids']]"
   ]
  },
  {
   "cell_type": "markdown",
   "metadata": {},
   "source": [
    "## Trier un *DataFrame*\n",
    "\n",
    "Il est très facile de trier un objet DataFrame avec la méthode `.sort_values()`. Par exemple, on voit qu'en classant les pays d'abord par nombre de sièges croissant, puis, pour un même nombre de sièges, par poids décroissant, on déduit que plus le nombre de sièges et la population augmentent, plus le poids d'un pays au parlement diminue :"
   ]
  },
  {
   "cell_type": "code",
   "execution_count": null,
   "metadata": {
    "tags": []
   },
   "outputs": [],
   "source": [
    "df_europe.sort_values(by = ['sièges', 'poids'], ascending = [True, False])"
   ]
  },
  {
   "cell_type": "markdown",
   "metadata": {},
   "source": [
    "## Sauvegarder un DataFrame\n",
    "Il est possible de sauver un objet DataFrame sous la forme d'un [fichier csv](https://fr.wikipedia.org/wiki/Comma-separated_values). C'est un format pratique qui peut être lu par la plupart des tableurs comme LibreOffice Calc ou Microsoft Excel. Il faut utiliser la métode `.to_csv()` :"
   ]
  },
  {
   "cell_type": "code",
   "execution_count": null,
   "metadata": {},
   "outputs": [],
   "source": [
    "df_europe.to_csv(\"europe.csv\")"
   ]
  },
  {
   "cell_type": "markdown",
   "metadata": {},
   "source": [
    "Cette méthode crée un fichier nommé *data.csv* dans le répertoire de travail (allez vérifier !), avec le contenu du DataFrame :\n",
    "\n",
    "```\n",
    ",pays,capitale,population,date d'adhésion,sièges,poids\n",
    "1,allemagne,berlin,82162000,1957-01-01,96,1.3703356988657123\n",
    "2,autriche,vienne,8700471,1995-01-01,18,2.4263669538020842\n",
    "3,belgique,bruxelles,11289853,1957-01-01,21,2.1815127149779783\n",
    "4,bulgarie,sofia,7153784,2007-01-01,17,2.7870184226008328\n",
    "5,chypre,nicosie,848319,2004-01-01,6,8.295045974023676\n",
    "6,croatie,zagreb,4190669,2013-01-01,11,3.078478088741746\n",
    "7,danemark,copenhague,5659715,1973-01-01,13,2.6938631589897866\n",
    "8,espagne,madrid,46438422,1986-01-01,54,1.363776011827881\n",
    "9,estonie,tallinn,1315944,2004-01-01,6,5.347374284648732\n",
    "10,finlande,helsinki,5401267,1995-01-01,13,2.822763201464005\n",
    "11,france,paris,66661621,1957-01-01,74,1.301914879970682\n",
    "12,grèce,athènes,10793526,1981-01-01,21,2.28182689046492\n",
    "13,hongrie,budapest,9830485,2004-01-01,21,2.5053654900782893\n",
    "14,irlande,dublin,4658530,1973-01-01,11,2.7693033411117423\n",
    "15,italie,rome,60665551,1957-01-01,73,1.4112613727889787\n",
    "16,lettonie,riga,1968957,2004-01-01,8,4.765193013788716\n",
    "17,lituanie,vilnius,2888558,2004-01-01,11,4.466201715066578\n",
    "18,luxembourg,luxembourg,576249,1957-01-01,6,12.211466060050068\n",
    "19,malte,la valette,434403,2004-01-01,6,16.198886991198936\n",
    "20,pays-bas,amsterdam,16979120,1957-01-01,26,1.7959114169499812\n",
    "21,pologne,varsovie,37967209,2004-01-01,51,1.5753905797479404\n",
    "22,portugal,lisbonne,10341330,1986-01-01,21,2.381604481215885\n",
    "23,république tchèque,prague,10553853,2004-01-01,21,2.3336460977552242\n",
    "24,roumanie,bucarest,19759968,2007-01-01,32,1.8992865050895604\n",
    "25,slovaquie,bratislava,5426252,2004-01-01,13,2.8097658805528902\n",
    "26,slovénie,ljubljana,2064188,2004-01-01,8,4.545351557537583\n",
    "27,suède,stockholm,9851017,1995-01-01,20,2.381089216689604\n",
    "```"
   ]
  },
  {
   "cell_type": "markdown",
   "metadata": {},
   "source": [
    "Il est alors possible, plus tard, de charger le contenu du fichier csv avec la méthode `.read_csv()` :"
   ]
  },
  {
   "cell_type": "code",
   "execution_count": null,
   "metadata": {},
   "outputs": [],
   "source": [
    "df_europe_from_csv = pd.read_csv(\"europe.csv\", index_col = 0, encoding = 'utf-8')"
   ]
  },
  {
   "cell_type": "markdown",
   "metadata": {},
   "source": [
    "L'option `encoding` peut être nécessaire sur certains ordinateurs, pas sur d'autres.\n",
    "\n",
    "Un problème de sauvegarder en csv est que si une des colonnes contient des objets python, il peuvent être convertis en un autre type au moment de l'écriture et de la lecture. Dans l'exemple ci-dessus, la colonne `date d'adhésion` n'est plus un objet `datetime64` au moment de la lecture : il a été converti en objet `str`. "
   ]
  },
  {
   "cell_type": "code",
   "execution_count": null,
   "metadata": {
    "tags": []
   },
   "outputs": [],
   "source": [
    "A = df_europe_from_csv[\"date d'adhésion\"][1]\n",
    "print(A)\n",
    "print(type(A))"
   ]
  },
  {
   "cell_type": "markdown",
   "metadata": {},
   "source": [
    "Une façon de garder toutes les propriétés des objets python est de les sauver dans un format que l'on appelle *pickle* :"
   ]
  },
  {
   "cell_type": "code",
   "execution_count": null,
   "metadata": {},
   "outputs": [],
   "source": [
    "# Sauvegarde d'un DataFrame dans un fichier pickle\n",
    "df_europe.to_pickle('europe.pkl')\n",
    "\n",
    "# Lecture du fichier pickle\n",
    "df_europe_from_pickle = pd.read_pickle('./europe.pkl')"
   ]
  },
  {
   "cell_type": "markdown",
   "metadata": {},
   "source": [
    "On voit alors que les dates sont restées des objets `datetime64` :"
   ]
  },
  {
   "cell_type": "code",
   "execution_count": null,
   "metadata": {
    "tags": []
   },
   "outputs": [],
   "source": [
    "df_europe_from_pickle[\"date d'adhésion\"].head(n = 2)"
   ]
  }
 ],
 "metadata": {
  "celltoolbar": "Tags",
  "kernelspec": {
   "display_name": "Python 3 (ipykernel)",
   "language": "python",
   "name": "python3"
  },
  "language_info": {
   "codemirror_mode": {
    "name": "ipython",
    "version": 3
   },
   "file_extension": ".py",
   "mimetype": "text/x-python",
   "name": "python",
   "nbconvert_exporter": "python",
   "pygments_lexer": "ipython3",
   "version": "3.10.12"
  }
 },
 "nbformat": 4,
 "nbformat_minor": 4
}
