{
 "cells": [
  {
   "cell_type": "markdown",
   "metadata": {},
   "source": [
    "# Méthodes d'Euler et de Runge-Kutta"
   ]
  },
  {
   "cell_type": "markdown",
   "metadata": {},
   "source": [
    "## La tasse de café\n",
    "Lorsque la différence $D(t)$ entre la température du café au temps $t$ et celle de l'air ambiant n'est pas trop grande, on peut considérer qu'elle varie selon la relation :\n",
    "\n",
    "$$\n",
    "\\frac{\\text{d}D}{\\text{d}t} = -r D(t)\n",
    "$$\n",
    "\n",
    "où $r=1/\\tau$ est un paramètre positif.\n",
    "\n",
    "1. Résoudre cette équation avec la méthode d'Euler entre $0$ et $30\\mathrm{~mn}$, pour la condition initiale $D(0) = 65.3\\mathrm{~°C}$ et la valeur du paramètre $r = 0.1\\mathrm{~mn^{-1}}$. On prendra un pas de $0.5\\mathrm{~mn}$. \n",
    "\n",
    "2. Comparer graphiquement la solution numérique avec la solution analytique :\n",
    "\n",
    "$$\n",
    "D (t) = D_0 e^{-rt} \n",
    "$$\n",
    "\n",
    "3. Représenter graphiquement l'erreur relative entre les 2 méthodes"
   ]
  },
  {
   "cell_type": "code",
   "execution_count": null,
   "metadata": {
    "tags": [
     "solution",
     "hide-input"
    ]
   },
   "outputs": [],
   "source": [
    "import numpy as np\n",
    "import matplotlib.pyplot as plt\n",
    "\n",
    "# Paramètres\n",
    "r = 0.1 # mn^-1\n",
    "ti = 0 # mn\n",
    "te = 30 # mn\n",
    "step = 0.5 # mn\n",
    "ordre = 1\n",
    "\n",
    "# Conditions initiales\n",
    "D_ini = 65.3 # °C\n",
    "\n",
    "# Loi de décroissance\n",
    "def derivee_D (D, t):\n",
    "    '''\n",
    "        Loi de décroissance dD/dt = - r D\n",
    "    '''\n",
    "    return -r * D\n",
    "\n",
    "# Méthode d'Euler\n",
    "def Euler(start, end, step, v_ini, derivee, ordre):\n",
    "    '''\n",
    "        Application de la méthode d'Euler\n",
    "    '''\n",
    "    # Création du tableau temps\n",
    "    interval = end - start                     # Intervalle\n",
    "    num_points = int(interval / step) + 1      # Nombre d'éléments\n",
    "    t = np.linspace(start, end, num_points)    # Tableau temps t\n",
    "\n",
    "    # Initialisation du tableau v\n",
    "    v = np.empty((ordre, num_points))\n",
    "\n",
    "    # Condition initiale\n",
    "    v[:, 0] = v_ini \n",
    "\n",
    "    # Boucle for\n",
    "    for i in range(num_points - 1):\n",
    "        v[:, i + 1] = v[:, i] + step * derivee(v[:, i], t[i])\n",
    "\n",
    "    # Argument de sortie\n",
    "    return t, v\n",
    "\n",
    "# Méthode d'Euler\n",
    "t, Deu = Euler(ti, te, step, D_ini, derivee_D, ordre)\n",
    "\n",
    "# Solution analytique\n",
    "Da = D_ini * np.exp(-r * t)\n",
    "\n",
    "# Comparaison des solutions\n",
    "plt.subplot(2, 1, 1)\n",
    "plt.plot(t, Da, label = 'Solution analytique')\n",
    "plt.plot(t, Deu[0, :], '+', label = 'Solution numérique')\n",
    "plt.ylabel('Température [deg]')\n",
    "plt.grid()\n",
    "plt.legend()\n",
    "\n",
    "plt.subplot(2, 1, 2)\n",
    "plt.plot(t, np.abs((Deu[0, :] - Da) / Da))\n",
    "plt.ylabel(\"Erreur relative\")\n",
    "plt.xlabel('Temps [mn]')\n",
    "plt.grid()\n",
    "plt.show()"
   ]
  },
  {
   "cell_type": "markdown",
   "metadata": {},
   "source": [
    "## Méthodes de Runge-Kutta\n",
    "La méthode d'Euler est simple à programmer mais est toutefois peu précise au-delà des temps\n",
    "courts. Il existe de nombreuses méthodes pour y remédier. \n",
    "Une classe de méthodes couramment utilisées est la classe des méthodes de Runge-Kutta présentées ci-dessous.\n",
    "\n",
    "Considérons les  équations différentielles ordinaires d'ordre 1 de la forme :\n",
    "\n",
    "$$\n",
    "    u'(t) = F(u,t)\n",
    "$$\n",
    "\n",
    "avec une  condition initiale :\n",
    "\n",
    "$$\n",
    "u(0) = U_0\n",
    "$$\n",
    "\n",
    "où $u$ est une quantité scalaire ou vectorielle.\n",
    "\n",
    "L'intégration de l'EDO entre $t_k$ et $t_{k+1}= t_k+\\Delta t $ \n",
    "donne formellement :\n",
    "\n",
    "$$\n",
    "u(t_{k+1})-u(t_k) = \\int_{t_k}^{t_k+\\Delta t} \\, F(u(t),t)\\,\\text{d}t\n",
    "$$\n",
    "\n",
    "Dans la méthode d'Euler explicite, l'intégrale est approximée par\n",
    "\n",
    "$$\n",
    "\\int_{t_k}^{t_k+\\Delta t} \\, F(u(t),t)\\,\\text{d}t = F(u(t_k),t_k) \\Delta t\n",
    "$$\n",
    "\n",
    "À chaque pas l'erreur est de l'ordre de $M(\\Delta t)^2/2$ où $M$ est l'ordre\n",
    "de grandeur de la dérivée de $F$ par rapport à $t$.\n",
    "Au bout de $N$ pas d'intégration, l'erreur cumulée est donc de l'ordre\n",
    "de $\\Delta t$ (et on voit facilement qu'il en sera de même pour la méthode implicite).\n",
    "D'où la qualification de méthode d'ordre 1 en $\\Delta t$ donnée à la méthode d'Euler. "
   ]
  },
  {
   "cell_type": "markdown",
   "metadata": {},
   "source": [
    "## Methodes de Runge-Kutta (explicite) d'ordre 2 (méthodes RK2) :\n",
    "               \n",
    "On peut améliorer l'estimation $u_{k+1}$ de $u(t_{k+1})$ en évaluant $F$ à un point \n",
    "intermédiaire, par exemple le point milieu du pas d'intégration et refaire l'intégration\n",
    "de $u$ à partir de $t_k$ en utilisant cette évaluation de l'intégrande :\n",
    "\n",
    "$$\n",
    "    d_1 = F(u_k, t_k) \n",
    "$$\n",
    "\n",
    "$$\n",
    "    u_{k,1} = u(t_k)+ d_1 \\frac{\\Delta t}{2} \n",
    "$$\n",
    "\n",
    "$$\n",
    "    d_2 = F\\left(u_{k,1}, t_k + \\frac{\\Delta t}{2} \\right)      \n",
    "$$\n",
    "\n",
    "$$\n",
    "u_{k+1} =  u_k  + d_2 \\Delta t \\;.\n",
    "$$\n",
    "\n",
    "D'où le nom de méthode RK2 du point milieu. On peut montrer que les erreurs cumulées sont d'ordre $\\Delta t^2$,\n",
    "d'où le nom de méthode de Runge-Kutta d'ordre 2.\n",
    "\n",
    "1. Adapter le script de la méthode d'Euler ci-dessous pour appliquer la méthode RK2 et tester la méthode pour le problème du refroidissement de la tasse de café"
   ]
  },
  {
   "cell_type": "code",
   "execution_count": null,
   "metadata": {
    "tags": [
     "hide-input"
    ]
   },
   "outputs": [],
   "source": [
    "# Méthode d'Euler\n",
    "def Euler(start, end, step, v_ini, derivee, ordre):\n",
    "    '''\n",
    "        Application de la méthode d'Euler\n",
    "    '''\n",
    "    # Création du tableau temps\n",
    "    interval = end - start                     # Intervalle\n",
    "    num_points = int(interval / step) + 1      # Nombre d'éléments\n",
    "    t = np.linspace(start, end, num_points)    # Tableau temps t\n",
    "\n",
    "    # Initialisation du tableau v\n",
    "    v = np.empty((ordre, num_points))\n",
    "\n",
    "    # Condition initiale\n",
    "    v[:, 0] = v_ini \n",
    "\n",
    "    # Boucle for\n",
    "    for i in range(num_points - 1):\n",
    "        v[:, i + 1] = v[:, i] + step * derivee(v[:, i], t[i])\n",
    "\n",
    "    # Argument de sortie\n",
    "    return t, v"
   ]
  },
  {
   "cell_type": "code",
   "execution_count": null,
   "metadata": {
    "tags": [
     "solution",
     "hide-input"
    ]
   },
   "outputs": [],
   "source": [
    "def rk2(start, end, step, v_ini, derivee, ordre):\n",
    "    '''\n",
    "        Application de la méthode rk2\n",
    "    '''\n",
    "    # Création du tableau temps\n",
    "    interval = end - start                     # Intervalle\n",
    "    num_points = int(interval / step) + 1      # Nombre d'éléments\n",
    "    t = np.linspace(start, end, num_points)    # Tableau temps t\n",
    "\n",
    "    # Initialisation du tableau v\n",
    "    v = np.empty((ordre, num_points))\n",
    "\n",
    "    # Condition initiale\n",
    "    v[:, 0] = v_ini \n",
    "\n",
    "    # Boucle for\n",
    "    for i in range(num_points - 1):\n",
    "        d1 = derivee(v[:, i], t[i])\n",
    "        v1 = v[:, i] + step / 2 * d1\n",
    "        d2 = derivee(v1, t[i] + step / 2)\n",
    "        v[:, i + 1] = v[:, i] + step * d2\n",
    "\n",
    "    # Argument de sortie\n",
    "    return t, v\n",
    "\n",
    "# Méthode rk2\n",
    "t, Drk2 = rk2(ti, te, step, D_ini, derivee_D, ordre)\n",
    "\n",
    "# Comparaison des solutions\n",
    "plt.plot(t, Da, label = 'Solution analytique')\n",
    "plt.plot(t, Drk2[0, :], '+', label = 'Solution numérique')\n",
    "plt.xlabel('Temps [mn]')\n",
    "plt.ylabel('Température [deg]')\n",
    "plt.grid()\n",
    "plt.legend()\n",
    "plt.show()"
   ]
  },
  {
   "cell_type": "markdown",
   "metadata": {},
   "source": [
    "2. Calculer l'erreur relative en fonction du temps et comparer à la méthode d'Euler"
   ]
  },
  {
   "cell_type": "code",
   "execution_count": null,
   "metadata": {
    "tags": [
     "solution",
     "hide-input"
    ]
   },
   "outputs": [],
   "source": [
    "# Comparaison des méthodes\n",
    "plt.plot(t, np.abs((Deu[0, :] - Da) / Da), label = \"Méthode d'Euler\")\n",
    "plt.plot(t, np.abs((Drk2[0, :] - Da) / Da), label = \"Méthode rk2\")\n",
    "plt.ylabel(\"Erreur relative\")\n",
    "plt.xlabel('Temps [mn]')\n",
    "plt.legend()\n",
    "plt.grid()\n",
    "plt.show()"
   ]
  },
  {
   "cell_type": "markdown",
   "metadata": {},
   "source": [
    "## Methode de Runge-Kutta (explicite) d'ordre 4 (méthode RK4)\n",
    "Nous nous limiterons au schéma d'intégration suivant, couramment  utilisé, basé sur une estimation de l'intégrale par la méthode de Simpson :\n",
    "\n",
    "$$\n",
    "    d_1 =   F\\left(t_k   , u_{k} \\right)          \n",
    "$$\n",
    "\n",
    "$$\n",
    "    d_2 =   F\\left(t_k + \\frac{\\Delta t}{2}  , u_{k} + \\frac{\\Delta t}{2} d_1 \\right)\n",
    "$$\n",
    "\n",
    "$$\n",
    "    d_3 =   F\\left(t_k + \\frac{\\Delta t}{2}  , u_{k} + \\frac{\\Delta t}{2} d_2 \\right) \n",
    "$$\n",
    "\n",
    "$$\n",
    "    d_4 =   F\\left(t_k + \\Delta t  , u_{k} + \\Delta t d_3\\right)            \n",
    "$$\n",
    "\n",
    "$$\n",
    "    u_{k+1} =  u_k  +  \\frac{\\Delta t}{6} \\left[ d_1+ 2 d_2  + 2 d_3 + d_4 \\right]\n",
    "$$\n",
    "\n",
    "où l'erreur par pas est d'ordre $\\Delta t^5$ et l'erreur cumulée est  d'ordre $\\Delta t^4$."
   ]
  },
  {
   "cell_type": "markdown",
   "metadata": {},
   "source": [
    "1. Adapter la fonction de la méthode d'Euler de l'exercice précédent pour appliquer la méthode RK4, et tester la méthode pour le problème du refroidissement de la tasse de café"
   ]
  },
  {
   "cell_type": "code",
   "execution_count": null,
   "metadata": {
    "tags": [
     "solution",
     "hide-input"
    ]
   },
   "outputs": [],
   "source": [
    "# Méthode rk4\n",
    "def rk4(start, end, step, v_ini, derivee, ordre):\n",
    "    '''\n",
    "        Application de la méthode rk4\n",
    "    '''\n",
    "    # Création du tableau temps\n",
    "    interval = end - start                     # Intervalle\n",
    "    num_points = int(interval / step) + 1      # Nombre d'éléments\n",
    "    t = np.linspace(start, end, num_points)    # Tableau temps t\n",
    "\n",
    "    # Initialisation du tableau v\n",
    "    v = np.empty((ordre, num_points))\n",
    "\n",
    "    # Condition initiale\n",
    "    v[:, 0] = v_ini \n",
    "\n",
    "    # Boucle for\n",
    "    for i in range(num_points - 1):\n",
    "        d1 = derivee(v[:, i], t[i])\n",
    "        d2 = derivee(v[:, i] + step / 2 * d1, t[i] + step / 2)\n",
    "        d3 = derivee(v[:, i] + step / 2 * d2, t[i] + step / 2)\n",
    "        d4 = derivee(v[:, i] + step * d3, t[i] + step)\n",
    "        v[:, i + 1] = v[:, i] + step / 6 * (d1 + 2 * d2 + 2 * d3 + d4)\n",
    "\n",
    "    # Argument de sortie\n",
    "    return t, v\n",
    "\n",
    "# Méthode rk4\n",
    "t, Drk4 = rk4(ti, te, 0.5, D_ini, derivee_D, ordre)\n",
    "\n",
    "# Comparaison des solutions\n",
    "plt.plot(t, Da, label = 'Solution analytique')\n",
    "plt.plot(t, Drk4[0, :], '+', label = 'Solution numérique')\n",
    "plt.xlabel('Temps [s]')\n",
    "plt.ylabel('Température [deg]')\n",
    "plt.grid()\n",
    "plt.legend()\n",
    "plt.show()"
   ]
  },
  {
   "cell_type": "markdown",
   "metadata": {},
   "source": [
    "2. Calculer l'erreur relative en fonction du temps et comparer à la méthode d'Euler et à RK2"
   ]
  },
  {
   "cell_type": "code",
   "execution_count": null,
   "metadata": {
    "tags": [
     "solution",
     "hide-input"
    ]
   },
   "outputs": [],
   "source": [
    "# Comparaison des méthodes\n",
    "plt.plot(t, np.abs((Deu[0, :] - Da) / Da), label = \"Méthode d'Euler\")\n",
    "plt.plot(t, np.abs((Drk2[0, :] - Da) / Da), label = \"Méthode rk2\")\n",
    "plt.plot(t, np.abs((Drk4[0, :] - Da) / Da), label = \"Méthode rk4\")\n",
    "plt.ylabel(\"Erreur relative\")\n",
    "plt.xlabel('Temps [mn]')\n",
    "plt.legend()\n",
    "plt.grid()\n",
    "plt.show()"
   ]
  }
 ],
 "metadata": {
  "kernelspec": {
   "display_name": "Python 3 (ipykernel)",
   "language": "python",
   "name": "python3"
  },
  "language_info": {
   "codemirror_mode": {
    "name": "ipython",
    "version": 3
   },
   "file_extension": ".py",
   "mimetype": "text/x-python",
   "name": "python",
   "nbconvert_exporter": "python",
   "pygments_lexer": "ipython3",
   "version": "3.8.10"
  }
 },
 "nbformat": 4,
 "nbformat_minor": 4
}
